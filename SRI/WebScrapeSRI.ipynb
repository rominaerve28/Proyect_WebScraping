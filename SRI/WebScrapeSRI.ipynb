{
 "cells": [
  {
   "cell_type": "code",
   "execution_count": null,
   "metadata": {},
   "outputs": [],
   "source": [
    "import os\n",
    "import csv\n",
    "import time\n",
    "from selenium import webdriver\n",
    "from selenium.webdriver.common.by import By\n",
    "from selenium.webdriver.support.ui import WebDriverWait\n",
    "from selenium.webdriver.support import expected_conditions as EC\n",
    "import pandas as pd\n",
    "from datetime import datetime"
   ]
  },
  {
   "cell_type": "code",
   "execution_count": 2,
   "metadata": {},
   "outputs": [
    {
     "data": {
      "text/plain": [
       "['1790300404001',\n",
       " '1391738986001',\n",
       " '1391880081001',\n",
       " \"0891742622001'\",\n",
       " '1391932105001',\n",
       " '1391797486001',\n",
       " '1391898800001',\n",
       " '1390012949001',\n",
       " '1391877986001',\n",
       " '1391932601001',\n",
       " '1391794495001',\n",
       " '1391932573001',\n",
       " '1391800673001',\n",
       " \"0990604282001'\",\n",
       " '1391822189001',\n",
       " '1391815123001',\n",
       " '1391933738001']"
      ]
     },
     "execution_count": 2,
     "metadata": {},
     "output_type": "execute_result"
    }
   ],
   "source": [
    "Registros = []\n",
    "with open(\"C:/Analytics/Lista_de_Ruc.csv\", mode=\"r\", encoding=\"utf-8\") as file:\n",
    "    reader = csv.reader(file)\n",
    "    for row in reader:\n",
    "        Registros.append(row[0])  # Suponiendo que el dato está en la primera columna\n",
    "Registros"
   ]
  },
  {
   "cell_type": "code",
   "execution_count": null,
   "metadata": {},
   "outputs": [
    {
     "name": "stdout",
     "output_type": "stream",
     "text": [
      "HOLA\n",
      "No se detectó CAPTCHA, continuando con la extracción de datos...\n"
     ]
    },
    {
     "ename": "InvalidSessionIdException",
     "evalue": "Message: invalid session id\nStacktrace:\n\tGetHandleVerifier [0x00007FF71EB2C6A5+28789]\n\t(No symbol) [0x00007FF71EA95B20]\n\t(No symbol) [0x00007FF71E928DCC]\n\t(No symbol) [0x00007FF71E96F1CF]\n\t(No symbol) [0x00007FF71E9A71F2]\n\t(No symbol) [0x00007FF71E9A1B89]\n\t(No symbol) [0x00007FF71E9A0C39]\n\t(No symbol) [0x00007FF71E8F5595]\n\tGetHandleVerifier [0x00007FF71EE71AED+3458237]\n\tGetHandleVerifier [0x00007FF71EE8829C+3550316]\n\tGetHandleVerifier [0x00007FF71EE7DB9D+3507565]\n\tGetHandleVerifier [0x00007FF71EBF2C6A+841274]\n\t(No symbol) [0x00007FF71EAA09EF]\n\t(No symbol) [0x00007FF71E8F41AE]\n\tGetHandleVerifier [0x00007FF71EEF66A8+4001912]\n\tBaseThreadInitThunk [0x00007FFD647DE8D7+23]\n\tRtlUserThreadStart [0x00007FFD65DBBF6C+44]\n",
     "output_type": "error",
     "traceback": [
      "\u001b[1;31m---------------------------------------------------------------------------\u001b[0m",
      "\u001b[1;31mInvalidSessionIdException\u001b[0m                 Traceback (most recent call last)",
      "Cell \u001b[1;32mIn[14], line 40\u001b[0m\n\u001b[0;32m     36\u001b[0m     \u001b[38;5;28mprint\u001b[39m(\u001b[38;5;124m\"\u001b[39m\u001b[38;5;124mNo se detectó CAPTCHA, continuando con la extracción de datos...\u001b[39m\u001b[38;5;124m\"\u001b[39m)\n\u001b[0;32m     39\u001b[0m \u001b[38;5;66;03m#Captura ruc\u001b[39;00m\n\u001b[1;32m---> 40\u001b[0m ruc_element \u001b[38;5;241m=\u001b[39m \u001b[43mWebDriverWait\u001b[49m\u001b[43m(\u001b[49m\u001b[43mdriver\u001b[49m\u001b[43m,\u001b[49m\u001b[43m \u001b[49m\u001b[38;5;241;43m10\u001b[39;49m\u001b[43m)\u001b[49m\u001b[38;5;241;43m.\u001b[39;49m\u001b[43muntil\u001b[49m\u001b[43m(\u001b[49m\u001b[43mEC\u001b[49m\u001b[38;5;241;43m.\u001b[39;49m\u001b[43mpresence_of_element_located\u001b[49m\u001b[43m(\u001b[49m\u001b[43m(\u001b[49m\u001b[43mBy\u001b[49m\u001b[38;5;241;43m.\u001b[39;49m\u001b[43mXPATH\u001b[49m\u001b[43m,\u001b[49m\u001b[43m \u001b[49m\u001b[38;5;124;43m\"\u001b[39;49m\u001b[38;5;124;43m/html/body/sri-root/div/div[2]/div/div/sri-consulta-deudas-firmes-impugnadas-web-app/div/sri-ruta-consulta-deudas-firmes-impugnadas/div[4]/div[1]/div/div[1]/div/sri-mostrar-informacion-deudor/div[1]/div[1]/div[2]/div[1]/span\u001b[39;49m\u001b[38;5;124;43m\"\u001b[39;49m\u001b[43m)\u001b[49m\u001b[43m)\u001b[49m\u001b[43m)\u001b[49m\n\u001b[0;32m     41\u001b[0m ruc \u001b[38;5;241m=\u001b[39m ruc_element\u001b[38;5;241m.\u001b[39mget_attribute(\u001b[38;5;124m\"\u001b[39m\u001b[38;5;124minnerText\u001b[39m\u001b[38;5;124m\"\u001b[39m)\u001b[38;5;241m.\u001b[39mstrip()\n\u001b[0;32m     43\u001b[0m \u001b[38;5;66;03m#Captura razón social\u001b[39;00m\n",
      "File \u001b[1;32mc:\\Users\\eeras\\.conda\\envs\\nuevo_entorno\\lib\\site-packages\\selenium\\webdriver\\support\\wait.py:137\u001b[0m, in \u001b[0;36mWebDriverWait.until\u001b[1;34m(self, method, message)\u001b[0m\n\u001b[0;32m    135\u001b[0m \u001b[38;5;28;01mwhile\u001b[39;00m \u001b[38;5;28;01mTrue\u001b[39;00m:\n\u001b[0;32m    136\u001b[0m     \u001b[38;5;28;01mtry\u001b[39;00m:\n\u001b[1;32m--> 137\u001b[0m         value \u001b[38;5;241m=\u001b[39m \u001b[43mmethod\u001b[49m\u001b[43m(\u001b[49m\u001b[38;5;28;43mself\u001b[39;49m\u001b[38;5;241;43m.\u001b[39;49m\u001b[43m_driver\u001b[49m\u001b[43m)\u001b[49m\n\u001b[0;32m    138\u001b[0m         \u001b[38;5;28;01mif\u001b[39;00m value:\n\u001b[0;32m    139\u001b[0m             \u001b[38;5;28;01mreturn\u001b[39;00m value\n",
      "File \u001b[1;32mc:\\Users\\eeras\\.conda\\envs\\nuevo_entorno\\lib\\site-packages\\selenium\\webdriver\\support\\expected_conditions.py:110\u001b[0m, in \u001b[0;36mpresence_of_element_located.<locals>._predicate\u001b[1;34m(driver)\u001b[0m\n\u001b[0;32m    109\u001b[0m \u001b[38;5;28;01mdef\u001b[39;00m \u001b[38;5;21m_predicate\u001b[39m(driver: WebDriverOrWebElement):\n\u001b[1;32m--> 110\u001b[0m     \u001b[38;5;28;01mreturn\u001b[39;00m \u001b[43mdriver\u001b[49m\u001b[38;5;241;43m.\u001b[39;49m\u001b[43mfind_element\u001b[49m\u001b[43m(\u001b[49m\u001b[38;5;241;43m*\u001b[39;49m\u001b[43mlocator\u001b[49m\u001b[43m)\u001b[49m\n",
      "File \u001b[1;32mc:\\Users\\eeras\\.conda\\envs\\nuevo_entorno\\lib\\site-packages\\selenium\\webdriver\\remote\\webdriver.py:898\u001b[0m, in \u001b[0;36mWebDriver.find_element\u001b[1;34m(self, by, value)\u001b[0m\n\u001b[0;32m    895\u001b[0m         \u001b[38;5;28;01mraise\u001b[39;00m NoSuchElementException(\u001b[38;5;124mf\u001b[39m\u001b[38;5;124m\"\u001b[39m\u001b[38;5;124mCannot locate relative element with: \u001b[39m\u001b[38;5;132;01m{\u001b[39;00mby\u001b[38;5;241m.\u001b[39mroot\u001b[38;5;132;01m}\u001b[39;00m\u001b[38;5;124m\"\u001b[39m)\n\u001b[0;32m    896\u001b[0m     \u001b[38;5;28;01mreturn\u001b[39;00m elements[\u001b[38;5;241m0\u001b[39m]\n\u001b[1;32m--> 898\u001b[0m \u001b[38;5;28;01mreturn\u001b[39;00m \u001b[38;5;28;43mself\u001b[39;49m\u001b[38;5;241;43m.\u001b[39;49m\u001b[43mexecute\u001b[49m\u001b[43m(\u001b[49m\u001b[43mCommand\u001b[49m\u001b[38;5;241;43m.\u001b[39;49m\u001b[43mFIND_ELEMENT\u001b[49m\u001b[43m,\u001b[49m\u001b[43m \u001b[49m\u001b[43m{\u001b[49m\u001b[38;5;124;43m\"\u001b[39;49m\u001b[38;5;124;43musing\u001b[39;49m\u001b[38;5;124;43m\"\u001b[39;49m\u001b[43m:\u001b[49m\u001b[43m \u001b[49m\u001b[43mby\u001b[49m\u001b[43m,\u001b[49m\u001b[43m \u001b[49m\u001b[38;5;124;43m\"\u001b[39;49m\u001b[38;5;124;43mvalue\u001b[39;49m\u001b[38;5;124;43m\"\u001b[39;49m\u001b[43m:\u001b[49m\u001b[43m \u001b[49m\u001b[43mvalue\u001b[49m\u001b[43m}\u001b[49m\u001b[43m)\u001b[49m[\u001b[38;5;124m\"\u001b[39m\u001b[38;5;124mvalue\u001b[39m\u001b[38;5;124m\"\u001b[39m]\n",
      "File \u001b[1;32mc:\\Users\\eeras\\.conda\\envs\\nuevo_entorno\\lib\\site-packages\\selenium\\webdriver\\remote\\webdriver.py:429\u001b[0m, in \u001b[0;36mWebDriver.execute\u001b[1;34m(self, driver_command, params)\u001b[0m\n\u001b[0;32m    427\u001b[0m response \u001b[38;5;241m=\u001b[39m \u001b[38;5;28mself\u001b[39m\u001b[38;5;241m.\u001b[39mcommand_executor\u001b[38;5;241m.\u001b[39mexecute(driver_command, params)\n\u001b[0;32m    428\u001b[0m \u001b[38;5;28;01mif\u001b[39;00m response:\n\u001b[1;32m--> 429\u001b[0m     \u001b[38;5;28;43mself\u001b[39;49m\u001b[38;5;241;43m.\u001b[39;49m\u001b[43merror_handler\u001b[49m\u001b[38;5;241;43m.\u001b[39;49m\u001b[43mcheck_response\u001b[49m\u001b[43m(\u001b[49m\u001b[43mresponse\u001b[49m\u001b[43m)\u001b[49m\n\u001b[0;32m    430\u001b[0m     response[\u001b[38;5;124m\"\u001b[39m\u001b[38;5;124mvalue\u001b[39m\u001b[38;5;124m\"\u001b[39m] \u001b[38;5;241m=\u001b[39m \u001b[38;5;28mself\u001b[39m\u001b[38;5;241m.\u001b[39m_unwrap_value(response\u001b[38;5;241m.\u001b[39mget(\u001b[38;5;124m\"\u001b[39m\u001b[38;5;124mvalue\u001b[39m\u001b[38;5;124m\"\u001b[39m, \u001b[38;5;28;01mNone\u001b[39;00m))\n\u001b[0;32m    431\u001b[0m     \u001b[38;5;28;01mreturn\u001b[39;00m response\n",
      "File \u001b[1;32mc:\\Users\\eeras\\.conda\\envs\\nuevo_entorno\\lib\\site-packages\\selenium\\webdriver\\remote\\errorhandler.py:232\u001b[0m, in \u001b[0;36mErrorHandler.check_response\u001b[1;34m(self, response)\u001b[0m\n\u001b[0;32m    230\u001b[0m         alert_text \u001b[38;5;241m=\u001b[39m value[\u001b[38;5;124m\"\u001b[39m\u001b[38;5;124malert\u001b[39m\u001b[38;5;124m\"\u001b[39m]\u001b[38;5;241m.\u001b[39mget(\u001b[38;5;124m\"\u001b[39m\u001b[38;5;124mtext\u001b[39m\u001b[38;5;124m\"\u001b[39m)\n\u001b[0;32m    231\u001b[0m     \u001b[38;5;28;01mraise\u001b[39;00m exception_class(message, screen, stacktrace, alert_text)  \u001b[38;5;66;03m# type: ignore[call-arg]  # mypy is not smart enough here\u001b[39;00m\n\u001b[1;32m--> 232\u001b[0m \u001b[38;5;28;01mraise\u001b[39;00m exception_class(message, screen, stacktrace)\n",
      "\u001b[1;31mInvalidSessionIdException\u001b[0m: Message: invalid session id\nStacktrace:\n\tGetHandleVerifier [0x00007FF71EB2C6A5+28789]\n\t(No symbol) [0x00007FF71EA95B20]\n\t(No symbol) [0x00007FF71E928DCC]\n\t(No symbol) [0x00007FF71E96F1CF]\n\t(No symbol) [0x00007FF71E9A71F2]\n\t(No symbol) [0x00007FF71E9A1B89]\n\t(No symbol) [0x00007FF71E9A0C39]\n\t(No symbol) [0x00007FF71E8F5595]\n\tGetHandleVerifier [0x00007FF71EE71AED+3458237]\n\tGetHandleVerifier [0x00007FF71EE8829C+3550316]\n\tGetHandleVerifier [0x00007FF71EE7DB9D+3507565]\n\tGetHandleVerifier [0x00007FF71EBF2C6A+841274]\n\t(No symbol) [0x00007FF71EAA09EF]\n\t(No symbol) [0x00007FF71E8F41AE]\n\tGetHandleVerifier [0x00007FF71EEF66A8+4001912]\n\tBaseThreadInitThunk [0x00007FFD647DE8D7+23]\n\tRtlUserThreadStart [0x00007FFD65DBBF6C+44]\n"
     ]
    }
   ],
   "source": [
    "driver = webdriver.Chrome()\n",
    "wait = WebDriverWait(driver, 10)\n",
    "driver.get(\"https://srienlinea.sri.gob.ec/sri-en-linea/SriPagosWeb/ConsultaDeudasFirmesImpugnadas/Consultas/consultaDeudasFirmesImpugnadas\")\n",
    "WebDriverWait(driver, 10).until(lambda d: d.execute_script(\"return document.readyState\") == \"complete\")\n",
    "for registro in Registros:  \n",
    "\n",
    "    time.sleep(3)\n",
    "\n",
    "    input_element = WebDriverWait(driver, 10).until(EC.visibility_of_element_located((By.XPATH, \"/html/body/sri-root/div/div[2]/div/div/sri-consulta-deudas-firmes-impugnadas-web-app/div/sri-ruta-consulta-deudas-firmes-impugnadas/div[1]/div[6]/div[2]/div/div[1]/div/div/div/sri-campo-ruc-cedula/form/div/div[2]/input\")))\n",
    "    # Ingresar el número en el campo de texto\n",
    "    input_element.send_keys(registro)\n",
    "    #webdriver.ActionChains(driver).send_keys(Keys.TAB).perform()\n",
    "\n",
    "    time.sleep(5)\n",
    "    elemento_xpath = WebDriverWait(driver, 10).until(EC.element_to_be_clickable((By.XPATH, \"/html/body/sri-root/div/div[2]/div/div/sri-consulta-deudas-firmes-impugnadas-web-app/div/sri-ruta-consulta-deudas-firmes-impugnadas/div[1]/div[6]/div[2]/div/div[2]/div[3]/button/span\")))\n",
    "    elemento_xpath.click()\n",
    "    time.sleep(5)\n",
    "\n",
    "    #Captura ruc\n",
    "    ruc_element = WebDriverWait(driver, 10).until(EC.presence_of_element_located((By.XPATH, \"/html/body/sri-root/div/div[2]/div/div/sri-consulta-deudas-firmes-impugnadas-web-app/div/sri-ruta-consulta-deudas-firmes-impugnadas/div[4]/div[1]/div/div[1]/div/sri-mostrar-informacion-deudor/div[1]/div[1]/div[2]/div[1]/span\")))\n",
    "    ruc = ruc_element.get_attribute(\"innerText\").strip()\n",
    "\n",
    "    #Captura razón social\n",
    "    razon_social_element = WebDriverWait(driver, 10).until(EC.presence_of_element_located((By.XPATH, \"/html/body/sri-root/div/div[2]/div/div/sri-consulta-deudas-firmes-impugnadas-web-app/div/sri-ruta-consulta-deudas-firmes-impugnadas/div[4]/div[1]/div/div[1]/div/sri-mostrar-informacion-deudor/div[5]/div/div[2]/div[1]\")))\n",
    "    razon_social = razon_social_element.get_attribute(\"innerText\").strip()\n",
    "\n",
    "    #Captura texto de Deuda\n",
    "    try:\n",
    "        adeuda_element = WebDriverWait(driver, 10).until(EC.presence_of_element_located((By.XPATH, \"/html/body/sri-root/div/div[2]/div/div/sri-consulta-deudas-firmes-impugnadas-web-app/div/sri-ruta-consulta-deudas-firmes-impugnadas/div[4]/div[1]/div/div[2]/div[4]/span\")))\n",
    "        adeud = adeuda_element.get_attribute(\"innerText\").strip()\n",
    "    except Exception as e:\n",
    "        adeud = \"Mantiene Deuda\"\n",
    "    \n",
    "    print(razon_social)\n",
    "\n",
    "    driver.switch_to.window(driver.window_handles[-1])\n",
    "    time.sleep(5)\n",
    "\n",
    "    #Impresión/salida en archivo excel\n",
    "    fecha_consulta = datetime.now().strftime(\"%Y-%m-%d\")\n",
    "    hora_consulta = datetime.now().strftime(\"%Y-%m-%d %H:%M:%S\")\n",
    "    \n",
    "    #Crear un DataFrame solo con el nuevo dato\n",
    "    nuevo_dato = pd.DataFrame([{\n",
    "        \"Fecha de Consulta\": fecha_consulta,\n",
    "        \"Hora de Consulta\": hora_consulta,\n",
    "        \"RUC\": ruc,\n",
    "        \"Razon Social\": razon_social,\n",
    "        \"Adeuda\": adeud\n",
    "    }])\n",
    "\n",
    "    nuevo_dato[\"RUC\"] = nuevo_dato[\"RUC\"].astype(str)\n",
    "       #archivo_salida = os.path.join(os.path.expanduser(\"~\"), \"Desktop\", \"cumplimiento_supercias.xlsx\")\n",
    "    archivo_salida = \"C:/Analytics/ADEUDA/adeuda_sri.xlsx\"\n",
    "        #Verificar si la carpeta existe, si no, crearla\n",
    "    if not os.path.exists(\"C:/Analytics/ADEUDA\"):\n",
    "        os.makedirs(\"C:/Analytics/ADEUDA\", exist_ok=True)\n",
    "    if os.path.exists(archivo_salida):\n",
    "        df_existente = pd.read_excel(archivo_salida, dtype={\"RUC\": str})\n",
    "        df_resultado = pd.concat([df_existente, nuevo_dato]).drop_duplicates()\n",
    "        with pd.ExcelWriter(archivo_salida, mode=\"w\", engine=\"openpyxl\") as writer:\n",
    "            df_resultado.to_excel(writer, index=False)\n",
    "    else:\n",
    "        nuevo_dato.to_excel(archivo_salida, index=False)      \n",
    "    print(\"Datos guardados en:\", archivo_salida)\n",
    "    elemento_xpath = WebDriverWait(driver, 10).until(EC.element_to_be_clickable((By.XPATH, \"/html/body/sri-root/div/div[2]/div/div/sri-consulta-deudas-firmes-impugnadas-web-app/div/sri-ruta-consulta-deudas-firmes-impugnadas/div[5]/div/div/button/span[1]\")))\n",
    "    time.sleep(1)\n",
    "    elemento_xpath.click()\n",
    "\n",
    "driver.quit()"
   ]
  }
 ],
 "metadata": {
  "kernelspec": {
   "display_name": "Nuevo Entorno",
   "language": "python",
   "name": "nuevo_entorno"
  },
  "language_info": {
   "codemirror_mode": {
    "name": "ipython",
    "version": 3
   },
   "file_extension": ".py",
   "mimetype": "text/x-python",
   "name": "python",
   "nbconvert_exporter": "python",
   "pygments_lexer": "ipython3",
   "version": "3.9.21"
  }
 },
 "nbformat": 4,
 "nbformat_minor": 2
}
