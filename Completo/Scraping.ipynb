{
 "cells": [
  {
   "cell_type": "code",
   "execution_count": 2,
   "metadata": {},
   "outputs": [],
   "source": [
    "import os\n",
    "import re\n",
    "import csv\n",
    "import cv2\n",
    "import time\n",
    "import shutil\n",
    "import PyPDF2\n",
    "import easyocr\n",
    "import requests\n",
    "import numpy as np\n",
    "import pandas as pd\n",
    "from docx import Document\n",
    "from datetime import datetime\n",
    "from selenium import webdriver\n",
    "from openpyxl import load_workbook\n",
    "from selenium.webdriver.common.by import By\n",
    "from selenium.webdriver.common.keys import Keys\n",
    "from selenium.webdriver.chrome.service import Service\n",
    "from selenium.webdriver.chrome.options import Options\n",
    "from selenium.webdriver.support.ui import WebDriverWait\n",
    "from webdriver_manager.chrome import ChromeDriverManager\n",
    "from selenium.webdriver.common.action_chains import ActionChains\n",
    "from selenium.webdriver.support import expected_conditions as EC\n"
   ]
  },
  {
   "cell_type": "code",
   "execution_count": 22,
   "metadata": {},
   "outputs": [],
   "source": [
    "def Carga_archivos():\n",
    "    Registros = []\n",
    "    with open(\"C:/Analytics/Lista_de_Ruc.csv\", mode=\"r\", encoding=\"utf-8\") as file:\n",
    "        reader = csv.reader(file)\n",
    "        for row in reader:\n",
    "            Registros.append(row[0])  # Suponiendo que el dato está en la primera columna\n",
    "    Registros\n",
    "    return Registros"
   ]
  },
  {
   "cell_type": "code",
   "execution_count": 21,
   "metadata": {},
   "outputs": [],
   "source": [
    "escritorio = os.path.join(os.path.expanduser(\"~\"), \"Desktop\", \"Supercias_Datos\")\n",
    "if not os.path.exists(escritorio):\n",
    "    os.makedirs(escritorio, exist_ok=True)\n",
    "captcha_path = os.path.join(escritorio, \"captcha.png\")\n",
    "#--funcion de detección de captcha\n",
    "def get_imgORIG(image_src):\n",
    "    response = requests.get(image_src, stream=True, headers={\"User-Agent\": \"Mozilla/5.0\"})\n",
    "    if response.status_code == 200:\n",
    "        with open(captcha_path, 'wb') as file:\n",
    "            file.write(response.content)\n",
    "    else:\n",
    "        print(\"Error al descargar el CAPTCHA\")\n",
    "        return \"\"   \n",
    "    captcha_path2 = cv2.imread(captcha_path)\n",
    "    #---Convertir la imagen a texto \n",
    "    reader = easyocr.Reader([\"es\"], gpu=False)\n",
    "    result = reader.readtext(captcha_path2)\n",
    "    #---Unir los textos reconocidos en una sola cadena\n",
    "    text = \" \".join([res[1] for res in result])\n",
    "    text = result[0][1].replace(\" \", \"\")\n",
    "    print(\"Texto detectado:\", text)\n",
    "    return text"
   ]
  },
  {
   "cell_type": "code",
   "execution_count": 23,
   "metadata": {},
   "outputs": [],
   "source": [
    "def Supercias():\n",
    "    print(\"Ejecutando Script...\")\n",
    "    time.sleep(2)\n",
    "    driver = webdriver.Chrome()\n",
    "    #driver.maximize_window()\n",
    "    wait = WebDriverWait(driver, 10)\n",
    "    for registro in Carga_archivos():\n",
    "        driver.get (\"https://appscvsgen.supercias.gob.ec/consultaCompanias/societario/busquedaCompanias.jsf\")\n",
    "        boton_ruc = wait.until(EC.element_to_be_clickable((By.XPATH, \"/html/body/form/div[3]/div/div[2]/table/tbody/tr[1]/td/table/tbody/tr/td[2]\")))\n",
    "        boton_ruc.click()\n",
    "        time.sleep(2)\n",
    "        #---Ingreso RUC\n",
    "        input_RUC=wait.until(EC.visibility_of_element_located((By.XPATH, \"/html/body/form/div[3]/div/div[2]/table/tbody/tr[2]/td/span/input\")))\n",
    "        numero_de_registro=registro\n",
    "        input_RUC.send_keys(numero_de_registro)\n",
    "        time.sleep(1)\n",
    "        input_RUC.send_keys(Keys.ENTER)\n",
    "        #---Rresolver captcha\n",
    "        time.sleep(3)\n",
    "        image_element = driver.find_element(By.ID, \"frmBusquedaCompanias:captchaImage\")\n",
    "        image_src = image_element.get_attribute(\"src\")\n",
    "        print(\"url de imagen:\",image_src)\n",
    "        try:\n",
    "            captcha= get_imgORIG(image_src)\n",
    "            print(\"respuesta de funcion\",captcha)\n",
    "        except:\n",
    "            pass\n",
    "        print(registro)\n",
    "        #---input de captcha\n",
    "        input_captcha =wait.until(EC.visibility_of_element_located((By.XPATH,\"/html/body/form/div[3]/div/div[2]/table/tbody/tr[4]/td/span/div/div[2]/table/tbody/tr[1]/td/input\")))\n",
    "        input_captcha.send_keys(captcha)\n",
    "        input_captcha.send_keys(Keys.ENTER)\n",
    "        url_actual=driver.current_url    \n",
    "        time.sleep(3) \n",
    "        boton_cumplimiento = wait.until(EC.element_to_be_clickable((By.XPATH, \"/html/body/div[2]/div[2]/form/div[1]/ul/li[28]/a\")))\n",
    "        boton_cumplimiento.click()\n",
    "        time.sleep(3)\n",
    "        #---Verificar y resolver el CAPTCHA extra\n",
    "        try:\n",
    "            image_elementex = driver.find_element(By.ID, \"frmCaptcha:captchaImage\")\n",
    "            image_src2 = image_elementex.get_attribute(\"src\")\n",
    "            print(\"URL CAPTCHA extra:\", image_src2)\n",
    "            try:\n",
    "                captcha_extra_resuelto = get_imgORIG(image_src2)\n",
    "                print(\"Respuesta CAPTCHA extra:\", captcha_extra_resuelto)\n",
    "            except Exception as e:\n",
    "                print(\"Error al resolver el CAPTCHA extra:\", e)\n",
    "                captcha_extra_resuelto = \"\"    \n",
    "            url_antes = driver.current_url\n",
    "            print(\"URL antes de enviar CAPTCHA:\", url_antes)\n",
    "            input_captchaEX = wait.until(EC.visibility_of_element_located((By.XPATH, \"/html/body/div[11]/div[2]/form/div/div/table/tbody/tr[1]/td/input\"))) \n",
    "            input_captchaEX.send_keys(captcha_extra_resuelto)\n",
    "            boton_enviar_captcha = wait.until(EC.element_to_be_clickable((By.XPATH, \"/html/body/div[11]/div[2]/form/button\")))\n",
    "            boton_enviar_captcha.click()\n",
    "            WebDriverWait(driver, 5).until(lambda d: d.current_url != url_antes)\n",
    "            url_despues = driver.current_url\n",
    "            print(\"URL después de enviar CAPTCHA:\", url_despues)\n",
    "        except Exception as e:\n",
    "            print(\"No se encontró CAPTCHA extra:\", e)\n",
    "        #---Extracción de datos\n",
    "        try:\n",
    "            ruc=driver.find_element(By.XPATH,\"/html/body/div[3]/div/form/span[1]/div/div/div/div/table[3]/tbody/tr[1]/td[2]/label\").text.strip()\n",
    "            razon_social = driver.find_element(By.XPATH, \"/html/body/div[3]/div/form/span[1]/div/div/div/div/table[1]/tbody/tr/td/label\").text.strip()\n",
    "            cumplimiento= driver.find_element(By.XPATH, \"/html/body/div[3]/div/form/span[1]/div/div/div/div/table[3]/tbody/tr[6]/td[2]/label\").text.strip()\n",
    "        except:\n",
    "            ruc = razon_social = cumplimiento = \"No disponible\"\n",
    "        fecha_consulta = datetime.now().strftime(\"%Y-%m-%d %H:%M:%S\")\n",
    "        #---Crear DataFrame solo con el nuevo dato\n",
    "        nuevo_dato = pd.DataFrame([{\n",
    "            \"Fecha\": fecha_consulta,\n",
    "            \"Ruc\": ruc,\n",
    "            \"Razón Social\": razon_social,\n",
    "            \"Cumplimiento Supercias\": cumplimiento\n",
    "        }])\n",
    "        nuevo_dato[\"Ruc\"] = nuevo_dato[\"Ruc\"].astype(str)        \n",
    "        archivo_salida = \"C:/Analytics/Separados/cumplimiento_supercias.xlsx\"\n",
    "        #---Verificar si la carpeta existe, si no, crearla\n",
    "        if not os.path.exists(\"C:\\\\Analytics\\\\Separados\"):\n",
    "            os.makedirs(\"C:\\\\Analytics\\\\Separados\", exist_ok=True)\n",
    "        if os.path.exists(archivo_salida):\n",
    "            df_existente = pd.read_excel(archivo_salida, dtype={\"Ruc\": str})\n",
    "            df_resultado = pd.concat([df_existente, nuevo_dato]).drop_duplicates()\n",
    "            with pd.ExcelWriter(archivo_salida, mode=\"w\", engine=\"openpyxl\") as writer:\n",
    "                df_resultado.to_excel(writer, index=False)\n",
    "        else:\n",
    "            nuevo_dato.to_excel(archivo_salida, index=False)\n",
    "    time.sleep(2)\n",
    "    driver.quit()\n",
    "    return nuevo_dato"
   ]
  },
  {
   "cell_type": "code",
   "execution_count": 24,
   "metadata": {},
   "outputs": [],
   "source": [
    "def SRI():\n",
    "    print(\"Ejecutando Script...\")\n",
    "    time.sleep(2)\n",
    "    driver = webdriver.Chrome()\n",
    "    wait = WebDriverWait(driver, 10)\n",
    "    driver.get(\"https://srienlinea.sri.gob.ec/sri-en-linea/SriPagosWeb/ConsultaDeudasFirmesImpugnadas/Consultas/consultaDeudasFirmesImpugnadas\")\n",
    "    WebDriverWait(driver, 10).until(lambda d: d.execute_script(\"return document.readyState\") == \"complete\")\n",
    "    #driver = webdriver.Chrome(service=Service(ChromeDriverManager().install()), options=Options)\n",
    "    for registro in Carga_archivos():  \n",
    "        time.sleep(3)\n",
    "        input_element = WebDriverWait(driver, 10).until(EC.visibility_of_element_located((By.XPATH, \"/html/body/sri-root/div/div[2]/div/div/sri-consulta-deudas-firmes-impugnadas-web-app/div/sri-ruta-consulta-deudas-firmes-impugnadas/div[1]/div[6]/div[2]/div/div[1]/div/div/div/sri-campo-ruc-cedula/form/div/div[2]/input\")))\n",
    "        #---Ingresar el número en el campo de texto\n",
    "        input_element.send_keys(registro)\n",
    "        time.sleep(5)\n",
    "        elemento_xpath = WebDriverWait(driver, 10).until(EC.element_to_be_clickable((By.XPATH, \"/html/body/sri-root/div/div[2]/div/div/sri-consulta-deudas-firmes-impugnadas-web-app/div/sri-ruta-consulta-deudas-firmes-impugnadas/div[1]/div[6]/div[2]/div/div[2]/div[3]/button/span\")))\n",
    "        elemento_xpath.click()\n",
    "        time.sleep(5)\n",
    "        #---Captura ruc\n",
    "        ruc_element = WebDriverWait(driver, 10).until(EC.presence_of_element_located((By.XPATH, \"/html/body/sri-root/div/div[2]/div/div/sri-consulta-deudas-firmes-impugnadas-web-app/div/sri-ruta-consulta-deudas-firmes-impugnadas/div[4]/div[1]/div/div[1]/div/sri-mostrar-informacion-deudor/div[1]/div[1]/div[2]/div[1]/span\")))\n",
    "        ruc = ruc_element.get_attribute(\"innerText\").strip()\n",
    "        #---Captura razón social\n",
    "        razon_social_element = WebDriverWait(driver, 10).until(EC.presence_of_element_located((By.XPATH, \"/html/body/sri-root/div/div[2]/div/div/sri-consulta-deudas-firmes-impugnadas-web-app/div/sri-ruta-consulta-deudas-firmes-impugnadas/div[4]/div[1]/div/div[1]/div/sri-mostrar-informacion-deudor/div[5]/div/div[2]/div[1]\")))\n",
    "        razon_social = razon_social_element.get_attribute(\"innerText\").strip()\n",
    "        #---Captura texto de Deuda\n",
    "        try:\n",
    "            adeuda_element = WebDriverWait(driver, 10).until(EC.presence_of_element_located((By.XPATH, \"/html/body/sri-root/div/div[2]/div/div/sri-consulta-deudas-firmes-impugnadas-web-app/div/sri-ruta-consulta-deudas-firmes-impugnadas/div[4]/div[1]/div/div[2]/div[4]/span\")))\n",
    "            adeud = adeuda_element.get_attribute(\"innerText\").strip()\n",
    "        except Exception as e:\n",
    "            adeud = \"Mantiene Deuda\"\n",
    "        driver.switch_to.window(driver.window_handles[-1])     \n",
    "        time.sleep(5)   \n",
    "        #Crear un DataFrame solo con el nuevo dato\n",
    "        fecha_consulta = datetime.now().strftime(\"%Y-%m-%d\")\n",
    "        nuevo_dato2 = pd.DataFrame([{\n",
    "            \"Fecha\": fecha_consulta,\n",
    "            \"Ruc\": ruc,\n",
    "            \"Razón Social\": razon_social,\n",
    "            \"Adeuda SRI\": adeud\n",
    "        }])\n",
    "        nuevo_dato2[\"Ruc\"] = nuevo_dato2[\"Ruc\"].astype(str)\n",
    "        archivo_salida = \"C:/Analytics/Separados/adeuda_sri.xlsx\"\n",
    "        #---Verificar si la carpeta existe, si no, crearla\n",
    "        if not os.path.exists(\"C:/Analytics/Separados\"):\n",
    "            os.makedirs(\"C:/Analytics/Separados\", exist_ok=True)\n",
    "        if os.path.exists(archivo_salida):\n",
    "            df_existente = pd.read_excel(archivo_salida, dtype={\"Ruc\": str})\n",
    "            df_resultado = pd.concat([df_existente, nuevo_dato2]).drop_duplicates()\n",
    "            with pd.ExcelWriter(archivo_salida, mode=\"w\", engine=\"openpyxl\") as writer:\n",
    "                df_resultado.to_excel(writer, index=False)\n",
    "        else:\n",
    "            nuevo_dato2.to_excel(archivo_salida, index=False)      \n",
    "        print(\"Datos guardados en:\", archivo_salida)\n",
    "        elemento_xpath = WebDriverWait(driver, 10).until(EC.element_to_be_clickable((By.XPATH, \"/html/body/sri-root/div/div[2]/div/div/sri-consulta-deudas-firmes-impugnadas-web-app/div/sri-ruta-consulta-deudas-firmes-impugnadas/div[5]/div/div/button/span[1]\")))\n",
    "        time.sleep(1)\n",
    "        elemento_xpath.click()\n",
    "    time.sleep(2)\n",
    "    driver.quit()\n",
    "    return nuevo_dato2"
   ]
  },
  {
   "cell_type": "code",
   "execution_count": 25,
   "metadata": {},
   "outputs": [],
   "source": [
    "def Iess():\n",
    "    print(\"Ejecutando Script...\")\n",
    "    time.sleep(3)\n",
    "    driver = webdriver.Chrome()\n",
    "    wait = WebDriverWait(driver, 5)\n",
    "    #driver.maximize_window()\n",
    "    data = []\n",
    "    fecha_consulta = datetime.now().strftime(\"%Y-%m-%d %H:%M:%S\")\n",
    "    for register in Carga_archivos():\n",
    "        driver.get(\"https://www.iess.gob.ec/empleador-web/pages/morapatronal/certificadoCumplimientoPublico.jsf\")\n",
    "        WebDriverWait(driver, 10).until(lambda d: d.execute_script(\"return document.readyState\") == \"complete\")\n",
    "        time.sleep(2)\n",
    "        input_element = WebDriverWait(driver, 3).until(EC.visibility_of_element_located((By.XPATH, \"/html/body/form/table/tbody/tr/td/table/tbody/tr[2]/td/div[1]/table/tbody/tr[2]/td/input\")))\n",
    "        # Ingresar el número en el campo de texto\n",
    "        input_element.send_keys(register)\n",
    "        time.sleep(3)\n",
    "        #Click en boton consultar\n",
    "        elemento_xpath = WebDriverWait(driver, 3).until(EC.element_to_be_clickable((By.XPATH, \"/html/body/form/table/tbody/tr/td/table/tbody/tr[2]/td/div[1]/div[5]/input\")))\n",
    "        elemento_xpath.click()\n",
    "        time.sleep(3)  \n",
    "        #Controla si sale error al ingresar el ruc ingresa No aplica en el excel \n",
    "        try:\n",
    "            error_message = driver.find_element(By.CLASS_NAME, \"rich-messages-label\")\n",
    "            if error_message.is_displayed():\n",
    "                print(f\"RUC {register} No aplica Iess\")\n",
    "                data.append([fecha_consulta, register, \"No aplica\", \"No aplica\"])\n",
    "                continue  # Salta al siguiente RUC sin procesar PDF\n",
    "        except:\n",
    "            pass\n",
    "    time.sleep(2)\n",
    "    driver.quit()\n",
    "\n",
    "    downloads_folder = os.path.expanduser(\"C:/Users/eeras/Downloads\")\n",
    "    destination_folder = \"C:/Analytics/pdf_Iess\"\n",
    "    excel_path = \"C:/Analytics/Separados/obligaciones_patronales.xlsx\"\n",
    "    #--Mover archivos de descargas a la carpeta analytics\n",
    "    if not os.path.exists(destination_folder):\n",
    "        os.makedirs(destination_folder)\n",
    "    pattern = re.compile(r\"certificado_empresa_ruc(?: \\(\\d+\\))?\\.pdf$\")\n",
    "    secuencial = 1\n",
    "    #--Mover y renombrar archivos PDF antes de procesar el contenido\n",
    "    for file in os.listdir(downloads_folder):\n",
    "        if file.endswith(\".pdf\") and pattern.match(file):  \n",
    "            pdf_path = os.path.join(downloads_folder, file)\n",
    "            with open(pdf_path, \"rb\") as pdf_file:\n",
    "                reader = PyPDF2.PdfReader(pdf_file)\n",
    "                text = \"\"\n",
    "                for page in reader.pages:\n",
    "                    text += page.extract_text() + \"\\n\"\n",
    "            ruc_match = re.search(r'Nro. ?\\s*(\\d{13})', text)\n",
    "            #---Si encontramos el RUC en el texto\n",
    "            if ruc_match:\n",
    "                ruc = ruc_match.group(1)\n",
    "                new_filename = f\"{ruc}_{secuencial}.pdf\"  \n",
    "                secuencial += 1 \n",
    "            else:\n",
    "                new_filename = file \n",
    "                secuencial += 1 \n",
    "            dest_path = os.path.join(destination_folder, new_filename)\n",
    "            shutil.move(pdf_path, dest_path)\n",
    "            print(f\"Movido y renombrado: {file} -> {new_filename}\")\n",
    "            #---Extracción de información\n",
    "            with open(dest_path, \"rb\") as pdf_new_file_name:\n",
    "                reader = PyPDF2.PdfReader(pdf_new_file_name)\n",
    "                text = \"\"\n",
    "                for page in reader.pages:\n",
    "                    text += page.extract_text() + \"\\n\"\n",
    "            ruc_match = re.search(r'Nro. ?\\s*(\\d{13})', text)\n",
    "            razon_social_match = re.search(r'representante legal de la empresa\\s*([A-Za-z0-9 ñÑáéíóúÁÉÍÓÚ&]+(?:\\s+[A-Za-z0-9 ñÑáéíóúÁÉÍÓÚ&]+)*)', text)\n",
    "            obligaciones_match = re.search(r'(NO\\s*\\n*registra|SI\\s*\\n*registra)(?:\\s*|\\n*)', text, re.IGNORECASE)\n",
    "            ruc = ruc_match.group(1) if ruc_match else \"No encontrado\"\n",
    "            razon_social = razon_social_match.group(1).strip() if razon_social_match else \"No encontrado\"\n",
    "            obligaciones = obligaciones_match.group(1).strip() if obligaciones_match else \"No encontrado\"\n",
    "            data.append([fecha_consulta ,ruc, razon_social, obligaciones])\n",
    "            #Guardar en un archivo Excel\n",
    "    df = pd.DataFrame(data, columns=[ \"Fecha\",\"Ruc\", \"Razón Social\", \"Obligaciones Patronales\"])\n",
    "    df[\"Ruc\"] =df [\"Ruc\"].astype(str)\n",
    "    if not os.path.exists(\"C:\\\\Analytics\\\\Separados\"):\n",
    "        os.makedirs(\"C:\\\\Analytics\\\\Separados\", exist_ok=True)\n",
    "    if os.path.exists(excel_path):\n",
    "        df_existente = pd.read_excel(excel_path, dtype={\"Ruc\": str})\n",
    "        df_resultado = pd.concat([df_existente, df]).drop_duplicates()\n",
    "        # Escribir los datos en la hoja existente (sin sobrescribir los datos previos)\n",
    "        with pd.ExcelWriter(excel_path, mode=\"w\", engine=\"openpyxl\") as writer:\n",
    "            df_resultado.to_excel(writer, index=False)\n",
    "    else:\n",
    "        # Si el archivo no existe, crear uno nuevo con los encabezados\n",
    "        df.to_excel(excel_path, index=False)         \n",
    "    return df"
   ]
  },
  {
   "cell_type": "code",
   "execution_count": null,
   "metadata": {},
   "outputs": [],
   "source": [
    "def Arcsa():\n",
    "    print(\"Ejecutando Script...\")\n",
    "    time.sleep(3)\n",
    "    driver = webdriver.Chrome()\n",
    "    #driver.maximize_window()\n",
    "    wait = WebDriverWait(driver, 10)\n",
    "    fecha_consulta = datetime.now()\n",
    "    for register in Carga_archivos():\n",
    "        driver.get(\"https://permisosfuncionamiento.controlsanitario.gob.ec/permisosdefuncionamiento/index.php\")\n",
    "        time.sleep(2)\n",
    "        boton_ruc = wait.until(EC.element_to_be_clickable((By.XPATH, \"/html/body/div/form/div[2]/div/div/center[2]/table/tbody/tr[2]/td/center/table/tbody/tr[4]/td/div/div[2]/input\")))\n",
    "        boton_ruc.click()\n",
    "        time.sleep(2)\n",
    "        input_element = WebDriverWait(driver, 5).until(EC.visibility_of_element_located((By.XPATH, \"/html/body/div/form/div[2]/div/div/center[2]/table/tbody/tr[2]/td/center/table/tbody/tr[2]/td/div/div[2]/input\")))\n",
    "        #---Ingresar el número en el campo de texto\n",
    "        input_element.send_keys(register)\n",
    "        time.sleep(3)\n",
    "        #---Click en boton consultar\n",
    "        elemento_xpath = WebDriverWait(driver, 5).until(EC.element_to_be_clickable((By.XPATH, \"/html/body/div/form/div[2]/div/div/center[2]/table/tbody/tr[3]/td/div/div/button\")))\n",
    "        elemento_xpath.click()\n",
    "        time.sleep(3)\n",
    "        elemento_xpath = WebDriverWait(driver, 5).until(EC.element_to_be_clickable((By.XPATH, \"/html/body/div/form/div[2]/div/div/center[2]/div/div[1]/div/div[2]/div/section/div/div/div/div/div/div/div[1]/button[2]\")))\n",
    "        elemento_xpath.click()\n",
    "        time.sleep(2)\n",
    "    driver.quit()\n",
    "    #---rutas de archivos\n",
    "    downloads_folder = os.path.expanduser(\"C:/Users/eeras/Downloads\")  # Ajusta TU_USUARIO\n",
    "    destination_folder = \"C:/Analytics/Excel_Arcsa\"\n",
    "    excel_path = \"C:/Analytics/Separados/permisos.xlsx\"\n",
    "    pattern = re.compile(r\"Consulta Permisos de Funcionamiento(?: \\(\\d+\\))?\\.xlsx$\")\n",
    "    if not os.path.exists(destination_folder):\n",
    "        os.makedirs(destination_folder)\n",
    "    for file in os.listdir(downloads_folder):\n",
    "        if file.endswith(\".xlsx\") and pattern.match(file):  \n",
    "            src_path = os.path.join(downloads_folder, file)\n",
    "            dest_path = os.path.join(destination_folder, file)\n",
    "            shutil.move(src_path, dest_path)\n",
    "            print(f\"Movido: {file}\")\n",
    "    data_list = []\n",
    "    fecha_consulta = pd.to_datetime(datetime.now().date())  \n",
    "    for file in os.listdir(destination_folder):\n",
    "        if file.endswith(\".xlsx\"):\n",
    "            file_path = os.path.join(destination_folder, file)\n",
    "            df = pd.read_excel(file_path, skiprows=1)\n",
    "            df[\"Fecha\"]= fecha_consulta\n",
    "            df[\"Ruc\"]= df[\"RUC\"]\n",
    "            df = df[[\"Número de Permiso\", \"Fecha de Emisión de Permiso\", \"Fecha de Vigencia de Permiso\", \"RUC\", \"Razón Social\"]]\n",
    "            df[\"Fecha\"]= fecha_consulta\n",
    "            df[\"Fecha de Emisión de Permiso\"] = pd.to_datetime(df[\"Fecha de Emisión de Permiso\"],dayfirst=True, errors=\"coerce\")\n",
    "            df[\"Fecha de Vigencia de Permiso\"] = pd.to_datetime(df[\"Fecha de Vigencia de Permiso\"],dayfirst=True, errors=\"coerce\")\n",
    "            if df[\"Fecha de Vigencia de Permiso\"].isnull().sum() > 0:\n",
    "                print(\"Advertencia: Algunas fechas no pudieron convertirse correctamente.\")\n",
    "            #---Calcular días para caducar permiso\n",
    "            df[\"Tiempo en que caduca permiso\"] = (df[\"Fecha de Vigencia de Permiso\"] - fecha_consulta).dt.days\n",
    "            df[\"Tiempo en que caduca permiso\"] = df[\"Tiempo en que caduca permiso\"].apply(\n",
    "                lambda x: f\"Faltan {x} días para que caduque el permiso\" if pd.notna(x) and x >= 0 else \"Caducado\")\n",
    "            df[\"Días restantes\"] = df[\"Tiempo en que caduca permiso\"].apply(\n",
    "                lambda x: int(x.split()[1]) if \"Faltan\" in x else 0)\n",
    "            #---Definir estado\n",
    "            df[\"Estado\"] = df[\"Días restantes\"].apply(\n",
    "                lambda x: \"Caducado\" if x < 0 else \n",
    "                \"Próximo a caducar\" if x < 14 else \"Está vigente\")\n",
    "            #---Eliminar la columna auxiliar \"Días restantes\"\n",
    "            df.drop(columns=[\"Días restantes\"], inplace=True)\n",
    "            data_list.append(df)\n",
    "    if data_list:\n",
    "        final_df = pd.concat(data_list, ignore_index=True)\n",
    "        final_df.to_excel(excel_path, index=False)\n",
    "        print(f\"Archivo consolidado guardado en {excel_path}\")\n",
    "    return data_list"
   ]
  },
  {
   "cell_type": "code",
   "execution_count": 27,
   "metadata": {},
   "outputs": [],
   "source": [
    "def mostrar_menu():\n",
    "    print(\"Seleccione una tarea:\")\n",
    "    print(\"1. Ejecutar Script Supercias\")\n",
    "    print(\"2. Ejecutar Script SRI\")\n",
    "    print(\"3. Ejecutar Script Iess\")\n",
    "    print(\"4. Ejecutar Script Arcsa\")\n",
    "    print(\"5. Crear Excel Final\")\n",
    "    print(\"6. Salir\")\n",
    "    return input(\"Elija una opción: \")"
   ]
  },
  {
   "cell_type": "code",
   "execution_count": 28,
   "metadata": {},
   "outputs": [],
   "source": [
    "def crear_excel():\n",
    "    ruta_carpeta = r\"C:\\Analytics\\Separados\"\n",
    "\n",
    "    organizaciones = {\n",
    "        \"adeuda_sri.xlsx\": \"SRI\",\n",
    "        \"cumplimiento_supercias.xlsx\": \"Supercias\",\n",
    "        \"obligaciones_patronales.xlsx\": \"IESS\",\n",
    "        \"permisos.xlsx\": \"ARCSA\"\n",
    "    }\n",
    "\n",
    "    columnas_resultado = ['Adeuda SRI', 'Cumplimiento Supercias', 'Obligaciones Patronales', 'Estado']\n",
    "\n",
    "    datos_consolidados = []\n",
    "\n",
    "    # Leer los archivos y mapear la información\n",
    "    for archivo, organizacion in organizaciones.items():\n",
    "        ruta_archivo = os.path.join(ruta_carpeta, archivo)\n",
    "        \n",
    "        if os.path.exists(ruta_archivo):\n",
    "            df = pd.read_excel(ruta_archivo, dtype=str) \n",
    "            \n",
    "            if df.empty:\n",
    "                print(f\"El archivo {archivo} está vacío o no tiene datos válidos.\")\n",
    "                continue  \n",
    "            \n",
    "            for col in ['Fecha de creación', 'RUC', 'Razón Social']:\n",
    "                if col not in df.columns:\n",
    "                    df[col] = ''  \n",
    "            \n",
    "            if organizacion == \"ARCSA\" and 'Tiempo en que caduca permiso' in df.columns:\n",
    "                df['Tiempo en que caduca permiso'] = df['Tiempo en que caduca permiso'].fillna('')\n",
    "            else:\n",
    "                df['Tiempo en que caduca permiso'] = 'No aplica'\n",
    "            \n",
    "            columnas_presentes = [col for col in columnas_resultado if col in df.columns]\n",
    "            \n",
    "            if not columnas_presentes:\n",
    "                df['Resultado'] = ''\n",
    "                columnas_presentes = ['Resultado']\n",
    "            \n",
    "            for _, fila in df.iterrows():\n",
    "                for columna in columnas_presentes:\n",
    "                    datos_consolidados.append([\n",
    "                        fila['Fecha de creación'], fila['RUC'], fila['Razón Social'],\n",
    "                        organizacion, fila.get(columna, ''), fila['Tiempo en que caduca permiso']\n",
    "                    ])\n",
    "\n",
    "    df_consolidado = pd.DataFrame(datos_consolidados, columns=[\n",
    "        'Fecha de creación', 'RUC', 'Razón Social', 'Organización', 'Resultado', 'Tiempo en que caduca permiso'\n",
    "    ])\n",
    "\n",
    "    ruta_salida = r\"C:\\Analytics\\Consolidado.xlsx\"\n",
    "    df_consolidado.to_excel(ruta_salida, index=False)\n",
    "\n",
    "    print(f\"Archivo consolidado guardado en: {ruta_salida}\")\n"
   ]
  },
  {
   "cell_type": "code",
   "execution_count": 29,
   "metadata": {},
   "outputs": [
    {
     "name": "stdout",
     "output_type": "stream",
     "text": [
      "Ejecutando Script...\n"
     ]
    },
    {
     "name": "stderr",
     "output_type": "stream",
     "text": [
      "Using CPU. Note: This module is much faster with a GPU.\n"
     ]
    },
    {
     "name": "stdout",
     "output_type": "stream",
     "text": [
      "url de imagen: https://appscvsgen.supercias.gob.ec/consultaCompanias/tmp/40016493156059185019462787488897.png\n",
      "Texto detectado: 802854\n",
      "respuesta de funcion 802854\n",
      "1790300404001\n"
     ]
    },
    {
     "name": "stderr",
     "output_type": "stream",
     "text": [
      "Using CPU. Note: This module is much faster with a GPU.\n"
     ]
    },
    {
     "name": "stdout",
     "output_type": "stream",
     "text": [
      "URL CAPTCHA extra: https://appscvsgen.supercias.gob.ec/consultaCompanias/tmp/logo.png\n",
      "Texto detectado: SuPERINTENDENCIA\n",
      "Respuesta CAPTCHA extra: SuPERINTENDENCIA\n",
      "URL antes de enviar CAPTCHA: https://appscvsgen.supercias.gob.ec/consultaCompanias/societario/informacionCompanias.jsf\n",
      "No se encontró CAPTCHA extra: Message: \n",
      "\n"
     ]
    },
    {
     "name": "stderr",
     "output_type": "stream",
     "text": [
      "Using CPU. Note: This module is much faster with a GPU.\n"
     ]
    },
    {
     "name": "stdout",
     "output_type": "stream",
     "text": [
      "url de imagen: https://appscvsgen.supercias.gob.ec/consultaCompanias/tmp/88071454012141084051827827826867.png\n",
      "Texto detectado: 129583\n",
      "respuesta de funcion 129583\n",
      "1391738986001\n"
     ]
    },
    {
     "name": "stderr",
     "output_type": "stream",
     "text": [
      "Using CPU. Note: This module is much faster with a GPU.\n"
     ]
    },
    {
     "name": "stdout",
     "output_type": "stream",
     "text": [
      "URL CAPTCHA extra: https://appscvsgen.supercias.gob.ec/consultaCompanias/tmp/logo.png\n",
      "Texto detectado: SuPERINTENDENCIA\n",
      "Respuesta CAPTCHA extra: SuPERINTENDENCIA\n",
      "URL antes de enviar CAPTCHA: https://appscvsgen.supercias.gob.ec/consultaCompanias/societario/informacionCompanias.jsf\n",
      "No se encontró CAPTCHA extra: Message: \n",
      "\n"
     ]
    },
    {
     "name": "stderr",
     "output_type": "stream",
     "text": [
      "Using CPU. Note: This module is much faster with a GPU.\n"
     ]
    },
    {
     "name": "stdout",
     "output_type": "stream",
     "text": [
      "url de imagen: https://appscvsgen.supercias.gob.ec/consultaCompanias/tmp/66107090364233702506814842038078.png\n",
      "Texto detectado: 567202\n",
      "respuesta de funcion 567202\n",
      "1391880081001\n"
     ]
    },
    {
     "name": "stderr",
     "output_type": "stream",
     "text": [
      "Using CPU. Note: This module is much faster with a GPU.\n"
     ]
    },
    {
     "name": "stdout",
     "output_type": "stream",
     "text": [
      "URL CAPTCHA extra: https://appscvsgen.supercias.gob.ec/consultaCompanias/tmp/logo.png\n",
      "Texto detectado: SuPERINTENDENCIA\n",
      "Respuesta CAPTCHA extra: SuPERINTENDENCIA\n",
      "URL antes de enviar CAPTCHA: https://appscvsgen.supercias.gob.ec/consultaCompanias/societario/informacionCompanias.jsf\n",
      "No se encontró CAPTCHA extra: Message: \n",
      "\n"
     ]
    },
    {
     "name": "stderr",
     "output_type": "stream",
     "text": [
      "Using CPU. Note: This module is much faster with a GPU.\n"
     ]
    },
    {
     "name": "stdout",
     "output_type": "stream",
     "text": [
      "url de imagen: https://appscvsgen.supercias.gob.ec/consultaCompanias/tmp/57208283425303837095087216511356.png\n",
      "Texto detectado: 273405\n",
      "respuesta de funcion 273405\n",
      "0891742622001'\n"
     ]
    },
    {
     "name": "stderr",
     "output_type": "stream",
     "text": [
      "Using CPU. Note: This module is much faster with a GPU.\n"
     ]
    },
    {
     "name": "stdout",
     "output_type": "stream",
     "text": [
      "URL CAPTCHA extra: https://appscvsgen.supercias.gob.ec/consultaCompanias/tmp/logo.png\n",
      "Texto detectado: SuPERINTENDENCIA\n",
      "Respuesta CAPTCHA extra: SuPERINTENDENCIA\n",
      "URL antes de enviar CAPTCHA: https://appscvsgen.supercias.gob.ec/consultaCompanias/societario/informacionCompanias.jsf\n",
      "No se encontró CAPTCHA extra: Message: \n",
      "\n"
     ]
    },
    {
     "name": "stderr",
     "output_type": "stream",
     "text": [
      "Using CPU. Note: This module is much faster with a GPU.\n"
     ]
    },
    {
     "name": "stdout",
     "output_type": "stream",
     "text": [
      "url de imagen: https://appscvsgen.supercias.gob.ec/consultaCompanias/tmp/66791783757498892681671064270500.png\n",
      "Texto detectado: 350365\n",
      "respuesta de funcion 350365\n",
      "1391932105001\n"
     ]
    },
    {
     "name": "stderr",
     "output_type": "stream",
     "text": [
      "Using CPU. Note: This module is much faster with a GPU.\n"
     ]
    },
    {
     "name": "stdout",
     "output_type": "stream",
     "text": [
      "URL CAPTCHA extra: https://appscvsgen.supercias.gob.ec/consultaCompanias/tmp/logo.png\n",
      "Texto detectado: SuPERINTENDENCIA\n",
      "Respuesta CAPTCHA extra: SuPERINTENDENCIA\n",
      "URL antes de enviar CAPTCHA: https://appscvsgen.supercias.gob.ec/consultaCompanias/societario/informacionCompanias.jsf\n",
      "No se encontró CAPTCHA extra: Message: \n",
      "\n"
     ]
    },
    {
     "name": "stderr",
     "output_type": "stream",
     "text": [
      "Using CPU. Note: This module is much faster with a GPU.\n"
     ]
    },
    {
     "name": "stdout",
     "output_type": "stream",
     "text": [
      "url de imagen: https://appscvsgen.supercias.gob.ec/consultaCompanias/tmp/93419524723474068030021271846475.png\n",
      "Texto detectado: 785254\n",
      "respuesta de funcion 785254\n",
      "1391797486001\n"
     ]
    },
    {
     "name": "stderr",
     "output_type": "stream",
     "text": [
      "Using CPU. Note: This module is much faster with a GPU.\n"
     ]
    },
    {
     "name": "stdout",
     "output_type": "stream",
     "text": [
      "URL CAPTCHA extra: https://appscvsgen.supercias.gob.ec/consultaCompanias/tmp/79657525951298174271019496853030.png\n",
      "Texto detectado: 828801\n",
      "Respuesta CAPTCHA extra: 828801\n",
      "URL antes de enviar CAPTCHA: https://appscvsgen.supercias.gob.ec/consultaCompanias/societario/informacionCompanias.jsf\n",
      "No se encontró CAPTCHA extra: Message: \n",
      "\n"
     ]
    },
    {
     "name": "stderr",
     "output_type": "stream",
     "text": [
      "Using CPU. Note: This module is much faster with a GPU.\n"
     ]
    },
    {
     "name": "stdout",
     "output_type": "stream",
     "text": [
      "url de imagen: https://appscvsgen.supercias.gob.ec/consultaCompanias/tmp/44538787677101970796004970841808.png\n",
      "Texto detectado: 479677\n",
      "respuesta de funcion 479677\n",
      "1391898800001\n"
     ]
    },
    {
     "name": "stderr",
     "output_type": "stream",
     "text": [
      "Using CPU. Note: This module is much faster with a GPU.\n"
     ]
    },
    {
     "name": "stdout",
     "output_type": "stream",
     "text": [
      "URL CAPTCHA extra: https://appscvsgen.supercias.gob.ec/consultaCompanias/tmp/15412763321655718040863679404925.png\n",
      "Texto detectado: 235226\n",
      "Respuesta CAPTCHA extra: 235226\n",
      "URL antes de enviar CAPTCHA: https://appscvsgen.supercias.gob.ec/consultaCompanias/societario/informacionCompanias.jsf\n",
      "No se encontró CAPTCHA extra: Message: \n",
      "\n"
     ]
    },
    {
     "name": "stderr",
     "output_type": "stream",
     "text": [
      "Using CPU. Note: This module is much faster with a GPU.\n"
     ]
    },
    {
     "name": "stdout",
     "output_type": "stream",
     "text": [
      "url de imagen: https://appscvsgen.supercias.gob.ec/consultaCompanias/tmp/00585146524820013439779516256012.png\n",
      "Texto detectado: 976777\n",
      "respuesta de funcion 976777\n",
      "1390012949001\n"
     ]
    },
    {
     "name": "stderr",
     "output_type": "stream",
     "text": [
      "Using CPU. Note: This module is much faster with a GPU.\n"
     ]
    },
    {
     "name": "stdout",
     "output_type": "stream",
     "text": [
      "URL CAPTCHA extra: https://appscvsgen.supercias.gob.ec/consultaCompanias/tmp/58069351027025217277912067078165.png\n",
      "Texto detectado: 115310\n",
      "Respuesta CAPTCHA extra: 115310\n",
      "URL antes de enviar CAPTCHA: https://appscvsgen.supercias.gob.ec/consultaCompanias/societario/informacionCompanias.jsf\n",
      "No se encontró CAPTCHA extra: Message: \n",
      "\n"
     ]
    },
    {
     "name": "stderr",
     "output_type": "stream",
     "text": [
      "Using CPU. Note: This module is much faster with a GPU.\n"
     ]
    },
    {
     "name": "stdout",
     "output_type": "stream",
     "text": [
      "url de imagen: https://appscvsgen.supercias.gob.ec/consultaCompanias/tmp/62108397035756037496836264336521.png\n",
      "Texto detectado: 500540\n",
      "respuesta de funcion 500540\n",
      "1391877986001\n"
     ]
    },
    {
     "name": "stderr",
     "output_type": "stream",
     "text": [
      "Using CPU. Note: This module is much faster with a GPU.\n"
     ]
    },
    {
     "name": "stdout",
     "output_type": "stream",
     "text": [
      "URL CAPTCHA extra: https://appscvsgen.supercias.gob.ec/consultaCompanias/tmp/86179642509181035183803315909948.png\n",
      "Texto detectado: 586886\n",
      "Respuesta CAPTCHA extra: 586886\n",
      "URL antes de enviar CAPTCHA: https://appscvsgen.supercias.gob.ec/consultaCompanias/societario/informacionCompanias.jsf\n",
      "No se encontró CAPTCHA extra: Message: \n",
      "\n"
     ]
    },
    {
     "name": "stderr",
     "output_type": "stream",
     "text": [
      "Using CPU. Note: This module is much faster with a GPU.\n"
     ]
    },
    {
     "name": "stdout",
     "output_type": "stream",
     "text": [
      "url de imagen: https://appscvsgen.supercias.gob.ec/consultaCompanias/tmp/51406551862124611582098452458075.png\n",
      "Texto detectado: 703243\n",
      "respuesta de funcion 703243\n",
      "1391932601001\n"
     ]
    },
    {
     "name": "stderr",
     "output_type": "stream",
     "text": [
      "Using CPU. Note: This module is much faster with a GPU.\n"
     ]
    },
    {
     "name": "stdout",
     "output_type": "stream",
     "text": [
      "URL CAPTCHA extra: https://appscvsgen.supercias.gob.ec/consultaCompanias/tmp/50080400412570336279720578353579.png\n",
      "Texto detectado: 095445\n",
      "Respuesta CAPTCHA extra: 095445\n",
      "URL antes de enviar CAPTCHA: https://appscvsgen.supercias.gob.ec/consultaCompanias/societario/informacionCompanias.jsf\n",
      "No se encontró CAPTCHA extra: Message: \n",
      "\n"
     ]
    },
    {
     "name": "stderr",
     "output_type": "stream",
     "text": [
      "Using CPU. Note: This module is much faster with a GPU.\n"
     ]
    },
    {
     "name": "stdout",
     "output_type": "stream",
     "text": [
      "url de imagen: https://appscvsgen.supercias.gob.ec/consultaCompanias/tmp/15356404003847359590078161245687.png\n",
      "Texto detectado: 062782\n",
      "respuesta de funcion 062782\n",
      "1391794495001\n"
     ]
    },
    {
     "name": "stderr",
     "output_type": "stream",
     "text": [
      "Using CPU. Note: This module is much faster with a GPU.\n"
     ]
    },
    {
     "name": "stdout",
     "output_type": "stream",
     "text": [
      "URL CAPTCHA extra: https://appscvsgen.supercias.gob.ec/consultaCompanias/tmp/logo.png\n",
      "Texto detectado: SuPERINTENDENCIA\n",
      "Respuesta CAPTCHA extra: SuPERINTENDENCIA\n",
      "URL antes de enviar CAPTCHA: https://appscvsgen.supercias.gob.ec/consultaCompanias/societario/informacionCompanias.jsf\n",
      "No se encontró CAPTCHA extra: Message: \n",
      "\n"
     ]
    },
    {
     "name": "stderr",
     "output_type": "stream",
     "text": [
      "Using CPU. Note: This module is much faster with a GPU.\n"
     ]
    },
    {
     "name": "stdout",
     "output_type": "stream",
     "text": [
      "url de imagen: https://appscvsgen.supercias.gob.ec/consultaCompanias/tmp/47966384783320745915860555618945.png\n",
      "Texto detectado: 031905\n",
      "respuesta de funcion 031905\n",
      "1391932573001\n"
     ]
    },
    {
     "name": "stderr",
     "output_type": "stream",
     "text": [
      "Using CPU. Note: This module is much faster with a GPU.\n"
     ]
    },
    {
     "name": "stdout",
     "output_type": "stream",
     "text": [
      "URL CAPTCHA extra: https://appscvsgen.supercias.gob.ec/consultaCompanias/tmp/44984915691515744259880692226234.png\n",
      "Texto detectado: 480375\n",
      "Respuesta CAPTCHA extra: 480375\n",
      "URL antes de enviar CAPTCHA: https://appscvsgen.supercias.gob.ec/consultaCompanias/societario/informacionCompanias.jsf\n",
      "No se encontró CAPTCHA extra: Message: \n",
      "\n"
     ]
    },
    {
     "name": "stderr",
     "output_type": "stream",
     "text": [
      "Using CPU. Note: This module is much faster with a GPU.\n"
     ]
    },
    {
     "name": "stdout",
     "output_type": "stream",
     "text": [
      "url de imagen: https://appscvsgen.supercias.gob.ec/consultaCompanias/tmp/49173409031249230977305087264935.png\n",
      "Texto detectado: 735119\n",
      "respuesta de funcion 735119\n",
      "1391800673001\n"
     ]
    },
    {
     "name": "stderr",
     "output_type": "stream",
     "text": [
      "Using CPU. Note: This module is much faster with a GPU.\n"
     ]
    },
    {
     "name": "stdout",
     "output_type": "stream",
     "text": [
      "URL CAPTCHA extra: https://appscvsgen.supercias.gob.ec/consultaCompanias/tmp/logo.png\n",
      "Texto detectado: SuPERINTENDENCIA\n",
      "Respuesta CAPTCHA extra: SuPERINTENDENCIA\n",
      "URL antes de enviar CAPTCHA: https://appscvsgen.supercias.gob.ec/consultaCompanias/societario/informacionCompanias.jsf\n",
      "No se encontró CAPTCHA extra: Message: \n",
      "\n"
     ]
    },
    {
     "name": "stderr",
     "output_type": "stream",
     "text": [
      "Using CPU. Note: This module is much faster with a GPU.\n"
     ]
    },
    {
     "name": "stdout",
     "output_type": "stream",
     "text": [
      "url de imagen: https://appscvsgen.supercias.gob.ec/consultaCompanias/tmp/89684355142189449835193292230221.png\n",
      "Texto detectado: 129192\n",
      "respuesta de funcion 129192\n",
      "0990604282001'\n"
     ]
    },
    {
     "name": "stderr",
     "output_type": "stream",
     "text": [
      "Using CPU. Note: This module is much faster with a GPU.\n"
     ]
    },
    {
     "name": "stdout",
     "output_type": "stream",
     "text": [
      "URL CAPTCHA extra: https://appscvsgen.supercias.gob.ec/consultaCompanias/tmp/69894498435610640700358780252020.png\n",
      "Texto detectado: 409784\n",
      "Respuesta CAPTCHA extra: 409784\n",
      "URL antes de enviar CAPTCHA: https://appscvsgen.supercias.gob.ec/consultaCompanias/societario/informacionCompanias.jsf\n",
      "No se encontró CAPTCHA extra: Message: \n",
      "\n"
     ]
    },
    {
     "name": "stderr",
     "output_type": "stream",
     "text": [
      "Using CPU. Note: This module is much faster with a GPU.\n"
     ]
    },
    {
     "name": "stdout",
     "output_type": "stream",
     "text": [
      "url de imagen: https://appscvsgen.supercias.gob.ec/consultaCompanias/tmp/56009716092149616445629145706851.png\n",
      "Texto detectado: 313726\n",
      "respuesta de funcion 313726\n",
      "1391822189001\n"
     ]
    },
    {
     "name": "stderr",
     "output_type": "stream",
     "text": [
      "Using CPU. Note: This module is much faster with a GPU.\n"
     ]
    },
    {
     "name": "stdout",
     "output_type": "stream",
     "text": [
      "URL CAPTCHA extra: https://appscvsgen.supercias.gob.ec/consultaCompanias/tmp/logo.png\n",
      "Texto detectado: SuPERINTENDENCIA\n",
      "Respuesta CAPTCHA extra: SuPERINTENDENCIA\n",
      "URL antes de enviar CAPTCHA: https://appscvsgen.supercias.gob.ec/consultaCompanias/societario/informacionCompanias.jsf\n",
      "No se encontró CAPTCHA extra: Message: \n",
      "\n"
     ]
    },
    {
     "name": "stderr",
     "output_type": "stream",
     "text": [
      "Using CPU. Note: This module is much faster with a GPU.\n"
     ]
    },
    {
     "name": "stdout",
     "output_type": "stream",
     "text": [
      "url de imagen: https://appscvsgen.supercias.gob.ec/consultaCompanias/tmp/22063832701473116401809567856701.png\n",
      "Texto detectado: 104882\n",
      "respuesta de funcion 104882\n",
      "1391815123001\n"
     ]
    },
    {
     "name": "stderr",
     "output_type": "stream",
     "text": [
      "Using CPU. Note: This module is much faster with a GPU.\n"
     ]
    },
    {
     "name": "stdout",
     "output_type": "stream",
     "text": [
      "URL CAPTCHA extra: https://appscvsgen.supercias.gob.ec/consultaCompanias/tmp/logo.png\n",
      "Texto detectado: SuPERINTENDENCIA\n",
      "Respuesta CAPTCHA extra: SuPERINTENDENCIA\n",
      "URL antes de enviar CAPTCHA: https://appscvsgen.supercias.gob.ec/consultaCompanias/societario/informacionCompanias.jsf\n",
      "No se encontró CAPTCHA extra: Message: \n",
      "\n"
     ]
    },
    {
     "name": "stderr",
     "output_type": "stream",
     "text": [
      "Using CPU. Note: This module is much faster with a GPU.\n"
     ]
    },
    {
     "name": "stdout",
     "output_type": "stream",
     "text": [
      "url de imagen: https://appscvsgen.supercias.gob.ec/consultaCompanias/tmp/95858337948518466207126245405891.png\n",
      "Texto detectado: 923541\n",
      "respuesta de funcion 923541\n",
      "1391933738001\n"
     ]
    },
    {
     "name": "stderr",
     "output_type": "stream",
     "text": [
      "Using CPU. Note: This module is much faster with a GPU.\n"
     ]
    },
    {
     "name": "stdout",
     "output_type": "stream",
     "text": [
      "URL CAPTCHA extra: https://appscvsgen.supercias.gob.ec/consultaCompanias/tmp/84020881644618358547329590584515.png\n",
      "Texto detectado: 842840\n",
      "Respuesta CAPTCHA extra: 842840\n",
      "URL antes de enviar CAPTCHA: https://appscvsgen.supercias.gob.ec/consultaCompanias/societario/informacionCompanias.jsf\n",
      "No se encontró CAPTCHA extra: Message: \n",
      "\n",
      "Ejecutando Script...\n",
      "Datos guardados en: C:/Analytics/Separados/adeuda_sri.xlsx\n",
      "Datos guardados en: C:/Analytics/Separados/adeuda_sri.xlsx\n",
      "Datos guardados en: C:/Analytics/Separados/adeuda_sri.xlsx\n",
      "Datos guardados en: C:/Analytics/Separados/adeuda_sri.xlsx\n",
      "Datos guardados en: C:/Analytics/Separados/adeuda_sri.xlsx\n",
      "Datos guardados en: C:/Analytics/Separados/adeuda_sri.xlsx\n",
      "Datos guardados en: C:/Analytics/Separados/adeuda_sri.xlsx\n",
      "Datos guardados en: C:/Analytics/Separados/adeuda_sri.xlsx\n",
      "Datos guardados en: C:/Analytics/Separados/adeuda_sri.xlsx\n",
      "Datos guardados en: C:/Analytics/Separados/adeuda_sri.xlsx\n",
      "Datos guardados en: C:/Analytics/Separados/adeuda_sri.xlsx\n",
      "Datos guardados en: C:/Analytics/Separados/adeuda_sri.xlsx\n",
      "Datos guardados en: C:/Analytics/Separados/adeuda_sri.xlsx\n",
      "Datos guardados en: C:/Analytics/Separados/adeuda_sri.xlsx\n",
      "Datos guardados en: C:/Analytics/Separados/adeuda_sri.xlsx\n",
      "Datos guardados en: C:/Analytics/Separados/adeuda_sri.xlsx\n",
      "Datos guardados en: C:/Analytics/Separados/adeuda_sri.xlsx\n",
      "Ejecutando Script...\n",
      "RUC 1391932105001 No aplica Iess\n",
      "RUC 1391797486001 No aplica Iess\n",
      "RUC 1391898800001 No aplica Iess\n",
      "RUC 1391877986001 No aplica Iess\n",
      "Movido y renombrado: certificado_empresa_ruc (1).pdf -> 1391738986001_1.pdf\n",
      "Movido y renombrado: certificado_empresa_ruc (10).pdf -> 1391822189001_2.pdf\n",
      "Movido y renombrado: certificado_empresa_ruc (11).pdf -> 1391815123001_3.pdf\n",
      "Movido y renombrado: certificado_empresa_ruc (12).pdf -> 1391933738001_4.pdf\n",
      "Movido y renombrado: certificado_empresa_ruc (2).pdf -> 1391880081001_5.pdf\n",
      "Movido y renombrado: certificado_empresa_ruc (3).pdf -> 0891742622001_6.pdf\n",
      "Movido y renombrado: certificado_empresa_ruc (4).pdf -> 1390012949001_7.pdf\n",
      "Movido y renombrado: certificado_empresa_ruc (5).pdf -> 1391932601001_8.pdf\n",
      "Movido y renombrado: certificado_empresa_ruc (6).pdf -> 1391794495001_9.pdf\n",
      "Movido y renombrado: certificado_empresa_ruc (7).pdf -> 1391932573001_10.pdf\n",
      "Movido y renombrado: certificado_empresa_ruc (8).pdf -> 1391800673001_11.pdf\n",
      "Movido y renombrado: certificado_empresa_ruc (9).pdf -> 0990604282001_12.pdf\n",
      "Movido y renombrado: certificado_empresa_ruc.pdf -> 1790300404001_13.pdf\n",
      "Ejecutando Script...\n",
      "Movido: Consulta Permisos de Funcionamiento (1).xlsx\n",
      "Movido: Consulta Permisos de Funcionamiento (10).xlsx\n",
      "Movido: Consulta Permisos de Funcionamiento (11).xlsx\n",
      "Movido: Consulta Permisos de Funcionamiento (12).xlsx\n",
      "Movido: Consulta Permisos de Funcionamiento (13).xlsx\n",
      "Movido: Consulta Permisos de Funcionamiento (14).xlsx\n",
      "Movido: Consulta Permisos de Funcionamiento (15).xlsx\n",
      "Movido: Consulta Permisos de Funcionamiento (16).xlsx\n",
      "Movido: Consulta Permisos de Funcionamiento (2).xlsx\n",
      "Movido: Consulta Permisos de Funcionamiento (3).xlsx\n",
      "Movido: Consulta Permisos de Funcionamiento (4).xlsx\n",
      "Movido: Consulta Permisos de Funcionamiento (5).xlsx\n",
      "Movido: Consulta Permisos de Funcionamiento (6).xlsx\n",
      "Movido: Consulta Permisos de Funcionamiento (7).xlsx\n",
      "Movido: Consulta Permisos de Funcionamiento (8).xlsx\n",
      "Movido: Consulta Permisos de Funcionamiento (9).xlsx\n",
      "Movido: Consulta Permisos de Funcionamiento.xlsx\n"
     ]
    },
    {
     "ename": "KeyError",
     "evalue": "\"['Fecha', 'Ruc'] not in index\"",
     "output_type": "error",
     "traceback": [
      "\u001b[1;31m---------------------------------------------------------------------------\u001b[0m",
      "\u001b[1;31mKeyError\u001b[0m                                  Traceback (most recent call last)",
      "Cell \u001b[1;32mIn[29], line 29\u001b[0m\n\u001b[0;32m     22\u001b[0m     \u001b[38;5;66;03m# if resultados:\u001b[39;00m\n\u001b[0;32m     23\u001b[0m     \u001b[38;5;66;03m#     # Unir todos los DataFrames y guardarlos en un solo Excel\u001b[39;00m\n\u001b[0;32m     24\u001b[0m     \u001b[38;5;66;03m#     final_df = pd.concat(resultados, ignore_index=True)\u001b[39;00m\n\u001b[0;32m     25\u001b[0m     \u001b[38;5;66;03m#     final_df.to_excel(\"resultados_combinados.xlsx\", index=False)\u001b[39;00m\n\u001b[0;32m     26\u001b[0m     \u001b[38;5;66;03m#     print(\"Los resultados han sido guardados en 'resultados_combinados.xlsx'\")\u001b[39;00m\n\u001b[0;32m     28\u001b[0m \u001b[38;5;28;01mif\u001b[39;00m \u001b[38;5;18m__name__\u001b[39m \u001b[38;5;241m==\u001b[39m \u001b[38;5;124m\"\u001b[39m\u001b[38;5;124m__main__\u001b[39m\u001b[38;5;124m\"\u001b[39m:\n\u001b[1;32m---> 29\u001b[0m     \u001b[43mmain\u001b[49m\u001b[43m(\u001b[49m\u001b[43m)\u001b[49m\n",
      "Cell \u001b[1;32mIn[29], line 6\u001b[0m, in \u001b[0;36mmain\u001b[1;34m()\u001b[0m\n\u001b[0;32m      1\u001b[0m \u001b[38;5;28;01mdef\u001b[39;00m \u001b[38;5;21mmain\u001b[39m():\n\u001b[0;32m      2\u001b[0m     tareas \u001b[38;5;241m=\u001b[39m {\n\u001b[0;32m      3\u001b[0m         \u001b[38;5;124m'\u001b[39m\u001b[38;5;124m1\u001b[39m\u001b[38;5;124m'\u001b[39m: Supercias(),\n\u001b[0;32m      4\u001b[0m         \u001b[38;5;124m'\u001b[39m\u001b[38;5;124m2\u001b[39m\u001b[38;5;124m'\u001b[39m: SRI(),\n\u001b[0;32m      5\u001b[0m         \u001b[38;5;124m'\u001b[39m\u001b[38;5;124m3\u001b[39m\u001b[38;5;124m'\u001b[39m: Iess(),\n\u001b[1;32m----> 6\u001b[0m         \u001b[38;5;124m'\u001b[39m\u001b[38;5;124m4\u001b[39m\u001b[38;5;124m'\u001b[39m: \u001b[43mArcsa\u001b[49m\u001b[43m(\u001b[49m\u001b[43m)\u001b[49m,\n\u001b[0;32m      7\u001b[0m         \u001b[38;5;124m'\u001b[39m\u001b[38;5;124m5\u001b[39m\u001b[38;5;124m'\u001b[39m: crear_excel()\n\u001b[0;32m      8\u001b[0m     } \n\u001b[0;32m      9\u001b[0m     \u001b[38;5;66;03m#resultados = []\u001b[39;00m\n\u001b[0;32m     11\u001b[0m     \u001b[38;5;28;01mwhile\u001b[39;00m \u001b[38;5;28;01mTrue\u001b[39;00m:\n",
      "Cell \u001b[1;32mIn[26], line 45\u001b[0m, in \u001b[0;36mArcsa\u001b[1;34m()\u001b[0m\n\u001b[0;32m     43\u001b[0m file_path \u001b[38;5;241m=\u001b[39m os\u001b[38;5;241m.\u001b[39mpath\u001b[38;5;241m.\u001b[39mjoin(destination_folder, file)\n\u001b[0;32m     44\u001b[0m df \u001b[38;5;241m=\u001b[39m pd\u001b[38;5;241m.\u001b[39mread_excel(file_path, skiprows\u001b[38;5;241m=\u001b[39m\u001b[38;5;241m1\u001b[39m)\n\u001b[1;32m---> 45\u001b[0m df \u001b[38;5;241m=\u001b[39m \u001b[43mdf\u001b[49m\u001b[43m[\u001b[49m\u001b[43m[\u001b[49m\u001b[38;5;124;43m\"\u001b[39;49m\u001b[38;5;124;43mFecha\u001b[39;49m\u001b[38;5;124;43m\"\u001b[39;49m\u001b[43m,\u001b[49m\u001b[38;5;124;43m\"\u001b[39;49m\u001b[38;5;124;43mNúmero de Permiso\u001b[39;49m\u001b[38;5;124;43m\"\u001b[39;49m\u001b[43m,\u001b[49m\u001b[43m \u001b[49m\u001b[38;5;124;43m\"\u001b[39;49m\u001b[38;5;124;43mFecha de Emisión de Permiso\u001b[39;49m\u001b[38;5;124;43m\"\u001b[39;49m\u001b[43m,\u001b[49m\u001b[43m \u001b[49m\u001b[38;5;124;43m\"\u001b[39;49m\u001b[38;5;124;43mFecha de Vigencia de Permiso\u001b[39;49m\u001b[38;5;124;43m\"\u001b[39;49m\u001b[43m,\u001b[49m\u001b[43m \u001b[49m\u001b[38;5;124;43m\"\u001b[39;49m\u001b[38;5;124;43mRuc\u001b[39;49m\u001b[38;5;124;43m\"\u001b[39;49m\u001b[43m,\u001b[49m\u001b[43m \u001b[49m\u001b[38;5;124;43m\"\u001b[39;49m\u001b[38;5;124;43mRazón Social\u001b[39;49m\u001b[38;5;124;43m\"\u001b[39;49m\u001b[43m]\u001b[49m\u001b[43m]\u001b[49m\n\u001b[0;32m     46\u001b[0m df[\u001b[38;5;124m\"\u001b[39m\u001b[38;5;124mFecha\u001b[39m\u001b[38;5;124m\"\u001b[39m]\u001b[38;5;241m=\u001b[39m fecha_consulta\n\u001b[0;32m     47\u001b[0m df[\u001b[38;5;124m\"\u001b[39m\u001b[38;5;124mFecha de Emisión de Permiso\u001b[39m\u001b[38;5;124m\"\u001b[39m] \u001b[38;5;241m=\u001b[39m pd\u001b[38;5;241m.\u001b[39mto_datetime(df[\u001b[38;5;124m\"\u001b[39m\u001b[38;5;124mFecha de Emisión de Permiso\u001b[39m\u001b[38;5;124m\"\u001b[39m],dayfirst\u001b[38;5;241m=\u001b[39m\u001b[38;5;28;01mTrue\u001b[39;00m, errors\u001b[38;5;241m=\u001b[39m\u001b[38;5;124m\"\u001b[39m\u001b[38;5;124mcoerce\u001b[39m\u001b[38;5;124m\"\u001b[39m)\n",
      "File \u001b[1;32mc:\\Users\\eeras\\.conda\\envs\\nuevo_entorno\\lib\\site-packages\\pandas\\core\\frame.py:4108\u001b[0m, in \u001b[0;36mDataFrame.__getitem__\u001b[1;34m(self, key)\u001b[0m\n\u001b[0;32m   4106\u001b[0m     \u001b[38;5;28;01mif\u001b[39;00m is_iterator(key):\n\u001b[0;32m   4107\u001b[0m         key \u001b[38;5;241m=\u001b[39m \u001b[38;5;28mlist\u001b[39m(key)\n\u001b[1;32m-> 4108\u001b[0m     indexer \u001b[38;5;241m=\u001b[39m \u001b[38;5;28;43mself\u001b[39;49m\u001b[38;5;241;43m.\u001b[39;49m\u001b[43mcolumns\u001b[49m\u001b[38;5;241;43m.\u001b[39;49m\u001b[43m_get_indexer_strict\u001b[49m\u001b[43m(\u001b[49m\u001b[43mkey\u001b[49m\u001b[43m,\u001b[49m\u001b[43m \u001b[49m\u001b[38;5;124;43m\"\u001b[39;49m\u001b[38;5;124;43mcolumns\u001b[39;49m\u001b[38;5;124;43m\"\u001b[39;49m\u001b[43m)\u001b[49m[\u001b[38;5;241m1\u001b[39m]\n\u001b[0;32m   4110\u001b[0m \u001b[38;5;66;03m# take() does not accept boolean indexers\u001b[39;00m\n\u001b[0;32m   4111\u001b[0m \u001b[38;5;28;01mif\u001b[39;00m \u001b[38;5;28mgetattr\u001b[39m(indexer, \u001b[38;5;124m\"\u001b[39m\u001b[38;5;124mdtype\u001b[39m\u001b[38;5;124m\"\u001b[39m, \u001b[38;5;28;01mNone\u001b[39;00m) \u001b[38;5;241m==\u001b[39m \u001b[38;5;28mbool\u001b[39m:\n",
      "File \u001b[1;32mc:\\Users\\eeras\\.conda\\envs\\nuevo_entorno\\lib\\site-packages\\pandas\\core\\indexes\\base.py:6200\u001b[0m, in \u001b[0;36mIndex._get_indexer_strict\u001b[1;34m(self, key, axis_name)\u001b[0m\n\u001b[0;32m   6197\u001b[0m \u001b[38;5;28;01melse\u001b[39;00m:\n\u001b[0;32m   6198\u001b[0m     keyarr, indexer, new_indexer \u001b[38;5;241m=\u001b[39m \u001b[38;5;28mself\u001b[39m\u001b[38;5;241m.\u001b[39m_reindex_non_unique(keyarr)\n\u001b[1;32m-> 6200\u001b[0m \u001b[38;5;28;43mself\u001b[39;49m\u001b[38;5;241;43m.\u001b[39;49m\u001b[43m_raise_if_missing\u001b[49m\u001b[43m(\u001b[49m\u001b[43mkeyarr\u001b[49m\u001b[43m,\u001b[49m\u001b[43m \u001b[49m\u001b[43mindexer\u001b[49m\u001b[43m,\u001b[49m\u001b[43m \u001b[49m\u001b[43maxis_name\u001b[49m\u001b[43m)\u001b[49m\n\u001b[0;32m   6202\u001b[0m keyarr \u001b[38;5;241m=\u001b[39m \u001b[38;5;28mself\u001b[39m\u001b[38;5;241m.\u001b[39mtake(indexer)\n\u001b[0;32m   6203\u001b[0m \u001b[38;5;28;01mif\u001b[39;00m \u001b[38;5;28misinstance\u001b[39m(key, Index):\n\u001b[0;32m   6204\u001b[0m     \u001b[38;5;66;03m# GH 42790 - Preserve name from an Index\u001b[39;00m\n",
      "File \u001b[1;32mc:\\Users\\eeras\\.conda\\envs\\nuevo_entorno\\lib\\site-packages\\pandas\\core\\indexes\\base.py:6252\u001b[0m, in \u001b[0;36mIndex._raise_if_missing\u001b[1;34m(self, key, indexer, axis_name)\u001b[0m\n\u001b[0;32m   6249\u001b[0m     \u001b[38;5;28;01mraise\u001b[39;00m \u001b[38;5;167;01mKeyError\u001b[39;00m(\u001b[38;5;124mf\u001b[39m\u001b[38;5;124m\"\u001b[39m\u001b[38;5;124mNone of [\u001b[39m\u001b[38;5;132;01m{\u001b[39;00mkey\u001b[38;5;132;01m}\u001b[39;00m\u001b[38;5;124m] are in the [\u001b[39m\u001b[38;5;132;01m{\u001b[39;00maxis_name\u001b[38;5;132;01m}\u001b[39;00m\u001b[38;5;124m]\u001b[39m\u001b[38;5;124m\"\u001b[39m)\n\u001b[0;32m   6251\u001b[0m not_found \u001b[38;5;241m=\u001b[39m \u001b[38;5;28mlist\u001b[39m(ensure_index(key)[missing_mask\u001b[38;5;241m.\u001b[39mnonzero()[\u001b[38;5;241m0\u001b[39m]]\u001b[38;5;241m.\u001b[39munique())\n\u001b[1;32m-> 6252\u001b[0m \u001b[38;5;28;01mraise\u001b[39;00m \u001b[38;5;167;01mKeyError\u001b[39;00m(\u001b[38;5;124mf\u001b[39m\u001b[38;5;124m\"\u001b[39m\u001b[38;5;132;01m{\u001b[39;00mnot_found\u001b[38;5;132;01m}\u001b[39;00m\u001b[38;5;124m not in index\u001b[39m\u001b[38;5;124m\"\u001b[39m)\n",
      "\u001b[1;31mKeyError\u001b[0m: \"['Fecha', 'Ruc'] not in index\""
     ]
    }
   ],
   "source": [
    "def main():\n",
    "    tareas = {\n",
    "        '1': Supercias(),\n",
    "        '2': SRI(),\n",
    "        '3': Iess(),\n",
    "        '4': Arcsa(),\n",
    "        '5': crear_excel()\n",
    "    } \n",
    "    #resultados = []\n",
    "\n",
    "    while True:\n",
    "        opcion = mostrar_menu()\n",
    "        \n",
    "        if opcion == '5':\n",
    "            break\n",
    "        elif opcion in tareas:\n",
    "            #df = tareas[opcion]()\n",
    "            #resultados.append(df)\n",
    "        #else:\n",
    "            print(\"Opción no válida.\")\n",
    "        \n",
    "    # if resultados:\n",
    "    #     # Unir todos los DataFrames y guardarlos en un solo Excel\n",
    "    #     final_df = pd.concat(resultados, ignore_index=True)\n",
    "    #     final_df.to_excel(\"resultados_combinados.xlsx\", index=False)\n",
    "    #     print(\"Los resultados han sido guardados en 'resultados_combinados.xlsx'\")\n",
    "\n",
    "if __name__ == \"__main__\":\n",
    "    main()"
   ]
  }
 ],
 "metadata": {
  "kernelspec": {
   "display_name": "Nuevo Entorno",
   "language": "python",
   "name": "nuevo_entorno"
  },
  "language_info": {
   "codemirror_mode": {
    "name": "ipython",
    "version": 3
   },
   "file_extension": ".py",
   "mimetype": "text/x-python",
   "name": "python",
   "nbconvert_exporter": "python",
   "pygments_lexer": "ipython3",
   "version": "3.9.21"
  }
 },
 "nbformat": 4,
 "nbformat_minor": 2
}
