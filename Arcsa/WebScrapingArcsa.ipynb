{
 "cells": [
  {
   "cell_type": "code",
   "execution_count": 3,
   "metadata": {},
   "outputs": [],
   "source": [
    "import re\n",
    "import os\n",
    "import csv\n",
    "import time\n",
    "import shutil\n",
    "import pandas as pd\n",
    "from datetime import datetime\n",
    "from selenium import webdriver\n",
    "from selenium.webdriver.common.by import By\n",
    "from selenium.webdriver.support.ui import WebDriverWait\n",
    "from selenium.webdriver.support import expected_conditions as EC"
   ]
  },
  {
   "cell_type": "code",
   "execution_count": 12,
   "metadata": {},
   "outputs": [
    {
     "data": {
      "text/plain": [
       "['1790300404001',\n",
       " '0891742622001',\n",
       " '1390012949001',\n",
       " '1391794495001',\n",
       " '1391932573001']"
      ]
     },
     "execution_count": 12,
     "metadata": {},
     "output_type": "execute_result"
    }
   ],
   "source": [
    "Registers = []\n",
    "with open(\"C:/Analytics/Lista_de_Ruc2.csv\", mode=\"r\", encoding=\"utf-8\") as file:\n",
    "    reader = csv.reader(file)\n",
    "    for row in reader:\n",
    "        Registers.append(row[0])  # Suponiendo que el dato está en la primera columna\n",
    "Registers"
   ]
  },
  {
   "cell_type": "code",
   "execution_count": null,
   "metadata": {},
   "outputs": [
    {
     "name": "stdout",
     "output_type": "stream",
     "text": [
      "Movido: Consulta Permisos de Funcionamiento (1).xlsx\n",
      "Movido: Consulta Permisos de Funcionamiento (2).xlsx\n",
      "Movido: Consulta Permisos de Funcionamiento (3).xlsx\n",
      "Movido: Consulta Permisos de Funcionamiento (4).xlsx\n",
      "Movido: Consulta Permisos de Funcionamiento.xlsx\n",
      "Archivo consolidado guardado en C:/Analytics/Arcsa/permisos.xlsx\n"
     ]
    }
   ],
   "source": [
    "driver = webdriver.Chrome()\n",
    "driver.maximize_window()\n",
    "wait = WebDriverWait(driver, 10)\n",
    "fecha_consulta = datetime.now()\n",
    "for register in Registers:\n",
    "    driver.get(\"https://permisosfuncionamiento.controlsanitario.gob.ec/permisosdefuncionamiento/index.php\")\n",
    "    time.sleep(2)\n",
    "    boton_ruc = wait.until(EC.element_to_be_clickable((By.XPATH, \"/html/body/div/form/div[2]/div/div/center[2]/table/tbody/tr[2]/td/center/table/tbody/tr[4]/td/div/div[2]/input\")))\n",
    "    boton_ruc.click()\n",
    "    time.sleep(2)\n",
    "    input_element = WebDriverWait(driver, 5).until(EC.visibility_of_element_located((By.XPATH, \"/html/body/div/form/div[2]/div/div/center[2]/table/tbody/tr[2]/td/center/table/tbody/tr[2]/td/div/div[2]/input\")))\n",
    "    # Ingresar el número en el campo de texto\n",
    "    input_element.send_keys(register)\n",
    "    time.sleep(3)\n",
    "    #Click en boton consultar\n",
    "    elemento_xpath = WebDriverWait(driver, 5).until(EC.element_to_be_clickable((By.XPATH, \"/html/body/div/form/div[2]/div/div/center[2]/table/tbody/tr[3]/td/div/div/button\")))\n",
    "    elemento_xpath.click()\n",
    "    time.sleep(3)\n",
    "    elemento_xpath = WebDriverWait(driver, 5).until(EC.element_to_be_clickable((By.XPATH, \"/html/body/div/form/div[2]/div/div/center[2]/div/div[1]/div/div[2]/div/section/div/div/div/div/div/div/div[1]/button[2]\")))\n",
    "    elemento_xpath.click()\n",
    "    time.sleep(3)\n",
    "driver.quit()\n",
    "\n",
    "#rutas de archivos\n",
    "downloads_folder = os.path.expanduser(\"C:/Users/eeras/Downloads\")  # Ajusta TU_USUARIO\n",
    "destination_folder = \"C:/Analytics/Arcsa/excel\"\n",
    "excel_path = \"C:/Analytics/Arcsa/permisos.xlsx\"\n",
    "\n",
    "pattern = re.compile(r\"Consulta Permisos de Funcionamiento(?: \\(\\d+\\))?\\.xlsx$\")\n",
    "\n",
    "if not os.path.exists(destination_folder):\n",
    "    os.makedirs(destination_folder)\n",
    "\n",
    "for file in os.listdir(downloads_folder):\n",
    "    if file.endswith(\".xlsx\") and pattern.match(file):  \n",
    "        src_path = os.path.join(downloads_folder, file)\n",
    "        dest_path = os.path.join(destination_folder, file)\n",
    "        shutil.move(src_path, dest_path)\n",
    "        print(f\"Movido: {file}\")\n",
    "data_list = []\n",
    "fecha_consulta = pd.to_datetime(datetime.now().date())  \n",
    "for file in os.listdir(destination_folder):\n",
    "    if file.endswith(\".xlsx\"):\n",
    "        file_path = os.path.join(destination_folder, file)\n",
    "        df = pd.read_excel(file_path, skiprows=1)\n",
    "        #print(\"Columnas encontradas:\", df.columns.tolist())  \n",
    "        #df.columns = df.columns.str.strip()\n",
    "\n",
    "        df = df[[\"Número de Permiso\", \"Fecha de Emisión de Permiso\", \"Fecha de Vigencia de Permiso\", \"RUC\", \"Razón Social\"]]\n",
    "        df[\"Fecha de Emisión de Permiso\"] = pd.to_datetime(df[\"Fecha de Emisión de Permiso\"],dayfirst=True, errors=\"coerce\")\n",
    "        df[\"Fecha de Vigencia de Permiso\"] = pd.to_datetime(df[\"Fecha de Vigencia de Permiso\"],dayfirst=True, errors=\"coerce\")\n",
    "\n",
    "        if df[\"Fecha de Vigencia de Permiso\"].isnull().sum() > 0:\n",
    "            print(\"Advertencia: Algunas fechas no pudieron convertirse correctamente.\")\n",
    "\n",
    "        # Calcular días para caducar permiso\n",
    "        df[\"Tiempo en que caduca permiso\"] = (df[\"Fecha de Vigencia de Permiso\"] - fecha_consulta).dt.days\n",
    "        df[\"Tiempo en que caduca permiso\"] = df[\"Tiempo en que caduca permiso\"].apply(\n",
    "             lambda x: f\"Faltan {x} días para que caduque el permiso\" if pd.notna(x) and x >= 0 else \"Caducado\")\n",
    "\n",
    "        df[\"Días restantes\"] = df[\"Tiempo en que caduca permiso\"].apply(\n",
    "            lambda x: int(x.split()[1]) if \"Faltan\" in x else 0)\n",
    "\n",
    "        # Definir estado\n",
    "        df[\"Estado\"] = df[\"Días restantes\"].apply(\n",
    "            lambda x: \"Caducado\" if x < 0 else \n",
    "            \"Próximo a caducar\" if x < 14 else \"Está vigente\")\n",
    "\n",
    "        # Eliminar la columna auxiliar \"Días restantes\"\n",
    "        df.drop(columns=[\"Días restantes\"], inplace=True)\n",
    "        \n",
    "        data_list.append(df)\n",
    "        \n",
    "if data_list:\n",
    "    final_df = pd.concat(data_list, ignore_index=True)\n",
    "    final_df.to_excel(excel_path, index=False)\n",
    "    print(f\"Archivo consolidado guardado en {excel_path}\")\n"
   ]
  }
 ],
 "metadata": {
  "kernelspec": {
   "display_name": "Nuevo Entorno",
   "language": "python",
   "name": "nuevo_entorno"
  },
  "language_info": {
   "codemirror_mode": {
    "name": "ipython",
    "version": 3
   },
   "file_extension": ".py",
   "mimetype": "text/x-python",
   "name": "python",
   "nbconvert_exporter": "python",
   "pygments_lexer": "ipython3",
   "version": "3.9.21"
  }
 },
 "nbformat": 4,
 "nbformat_minor": 2
}
