{
 "cells": [
  {
   "cell_type": "code",
   "execution_count": 5,
   "metadata": {},
   "outputs": [],
   "source": [
    "import csv\n",
    "import time\n",
    "import pandas as pd\n",
    "from datetime import datetime\n",
    "from selenium import webdriver\n",
    "from selenium.webdriver.common.by import By\n",
    "from selenium.webdriver.support.ui import WebDriverWait\n",
    "from selenium.webdriver.support import expected_conditions as EC"
   ]
  },
  {
   "cell_type": "code",
   "execution_count": 8,
   "metadata": {},
   "outputs": [
    {
     "data": {
      "text/plain": [
       "['1790300404001',\n",
       " '0891742622001',\n",
       " '1390012949001',\n",
       " '1391794495001',\n",
       " '1391932573001']"
      ]
     },
     "execution_count": 8,
     "metadata": {},
     "output_type": "execute_result"
    }
   ],
   "source": [
    "Registers = []\n",
    "with open(\"C:/Analytics/Lista_de_Ruc2.csv\", mode=\"r\", encoding=\"utf-8\") as file:\n",
    "    reader = csv.reader(file)\n",
    "    for row in reader:\n",
    "        Registers.append(row[0])  # Suponiendo que el dato está en la primera columna\n",
    "Registers"
   ]
  },
  {
   "cell_type": "code",
   "execution_count": 9,
   "metadata": {},
   "outputs": [
    {
     "ename": "InvalidSessionIdException",
     "evalue": "Message: invalid session id: session deleted as the browser has closed the connection\nfrom disconnected: not connected to DevTools\n  (Session info: chrome=134.0.6998.36)\nStacktrace:\n\tGetHandleVerifier [0x00007FF6167DFE45+26629]\n\t(No symbol) [0x00007FF616746010]\n\t(No symbol) [0x00007FF6165D931A]\n\t(No symbol) [0x00007FF6165C4F65]\n\t(No symbol) [0x00007FF6165E9E04]\n\t(No symbol) [0x00007FF61665F85F]\n\t(No symbol) [0x00007FF61667FA55]\n\t(No symbol) [0x00007FF616657883]\n\t(No symbol) [0x00007FF616620550]\n\t(No symbol) [0x00007FF616621803]\n\tGetHandleVerifier [0x00007FF616B372BD+3529853]\n\tGetHandleVerifier [0x00007FF616B4DA22+3621858]\n\tGetHandleVerifier [0x00007FF616B424D3+3575443]\n\tGetHandleVerifier [0x00007FF6168AB77A+860474]\n\t(No symbol) [0x00007FF61675088F]\n\t(No symbol) [0x00007FF61674CBC4]\n\t(No symbol) [0x00007FF61674CD66]\n\t(No symbol) [0x00007FF61673C2C9]\n\tBaseThreadInitThunk [0x00007FFD647DE8D7+23]\n\tRtlUserThreadStart [0x00007FFD65DBBF6C+44]\n",
     "output_type": "error",
     "traceback": [
      "\u001b[1;31m---------------------------------------------------------------------------\u001b[0m",
      "\u001b[1;31mInvalidSessionIdException\u001b[0m                 Traceback (most recent call last)",
      "Cell \u001b[1;32mIn[9], line 12\u001b[0m\n\u001b[0;32m     10\u001b[0m boton_ruc\u001b[38;5;241m.\u001b[39mclick()\n\u001b[0;32m     11\u001b[0m time\u001b[38;5;241m.\u001b[39msleep(\u001b[38;5;241m2\u001b[39m)\n\u001b[1;32m---> 12\u001b[0m input_element \u001b[38;5;241m=\u001b[39m \u001b[43mWebDriverWait\u001b[49m\u001b[43m(\u001b[49m\u001b[43mdriver\u001b[49m\u001b[43m,\u001b[49m\u001b[43m \u001b[49m\u001b[38;5;241;43m5\u001b[39;49m\u001b[43m)\u001b[49m\u001b[38;5;241;43m.\u001b[39;49m\u001b[43muntil\u001b[49m\u001b[43m(\u001b[49m\u001b[43mEC\u001b[49m\u001b[38;5;241;43m.\u001b[39;49m\u001b[43mvisibility_of_element_located\u001b[49m\u001b[43m(\u001b[49m\u001b[43m(\u001b[49m\u001b[43mBy\u001b[49m\u001b[38;5;241;43m.\u001b[39;49m\u001b[43mXPATH\u001b[49m\u001b[43m,\u001b[49m\u001b[43m \u001b[49m\u001b[38;5;124;43m\"\u001b[39;49m\u001b[38;5;124;43m/html/body/div/form/div[2]/div/div/center[2]/table/tbody/tr[2]/td/center/table/tbody/tr[2]/td/div/div[2]/input\u001b[39;49m\u001b[38;5;124;43m\"\u001b[39;49m\u001b[43m)\u001b[49m\u001b[43m)\u001b[49m\u001b[43m)\u001b[49m\n\u001b[0;32m     13\u001b[0m \u001b[38;5;66;03m# Ingresar el número en el campo de texto\u001b[39;00m\n\u001b[0;32m     14\u001b[0m input_element\u001b[38;5;241m.\u001b[39msend_keys(register)\n",
      "File \u001b[1;32mc:\\Users\\eeras\\.conda\\envs\\nuevo_entorno\\lib\\site-packages\\selenium\\webdriver\\support\\wait.py:137\u001b[0m, in \u001b[0;36mWebDriverWait.until\u001b[1;34m(self, method, message)\u001b[0m\n\u001b[0;32m    135\u001b[0m \u001b[38;5;28;01mwhile\u001b[39;00m \u001b[38;5;28;01mTrue\u001b[39;00m:\n\u001b[0;32m    136\u001b[0m     \u001b[38;5;28;01mtry\u001b[39;00m:\n\u001b[1;32m--> 137\u001b[0m         value \u001b[38;5;241m=\u001b[39m \u001b[43mmethod\u001b[49m\u001b[43m(\u001b[49m\u001b[38;5;28;43mself\u001b[39;49m\u001b[38;5;241;43m.\u001b[39;49m\u001b[43m_driver\u001b[49m\u001b[43m)\u001b[49m\n\u001b[0;32m    138\u001b[0m         \u001b[38;5;28;01mif\u001b[39;00m value:\n\u001b[0;32m    139\u001b[0m             \u001b[38;5;28;01mreturn\u001b[39;00m value\n",
      "File \u001b[1;32mc:\\Users\\eeras\\.conda\\envs\\nuevo_entorno\\lib\\site-packages\\selenium\\webdriver\\support\\expected_conditions.py:224\u001b[0m, in \u001b[0;36mvisibility_of_element_located.<locals>._predicate\u001b[1;34m(driver)\u001b[0m\n\u001b[0;32m    222\u001b[0m \u001b[38;5;28;01mdef\u001b[39;00m \u001b[38;5;21m_predicate\u001b[39m(driver: WebDriverOrWebElement):\n\u001b[0;32m    223\u001b[0m     \u001b[38;5;28;01mtry\u001b[39;00m:\n\u001b[1;32m--> 224\u001b[0m         \u001b[38;5;28;01mreturn\u001b[39;00m _element_if_visible(\u001b[43mdriver\u001b[49m\u001b[38;5;241;43m.\u001b[39;49m\u001b[43mfind_element\u001b[49m\u001b[43m(\u001b[49m\u001b[38;5;241;43m*\u001b[39;49m\u001b[43mlocator\u001b[49m\u001b[43m)\u001b[49m)\n\u001b[0;32m    225\u001b[0m     \u001b[38;5;28;01mexcept\u001b[39;00m StaleElementReferenceException:\n\u001b[0;32m    226\u001b[0m         \u001b[38;5;28;01mreturn\u001b[39;00m \u001b[38;5;28;01mFalse\u001b[39;00m\n",
      "File \u001b[1;32mc:\\Users\\eeras\\.conda\\envs\\nuevo_entorno\\lib\\site-packages\\selenium\\webdriver\\remote\\webdriver.py:898\u001b[0m, in \u001b[0;36mWebDriver.find_element\u001b[1;34m(self, by, value)\u001b[0m\n\u001b[0;32m    895\u001b[0m         \u001b[38;5;28;01mraise\u001b[39;00m NoSuchElementException(\u001b[38;5;124mf\u001b[39m\u001b[38;5;124m\"\u001b[39m\u001b[38;5;124mCannot locate relative element with: \u001b[39m\u001b[38;5;132;01m{\u001b[39;00mby\u001b[38;5;241m.\u001b[39mroot\u001b[38;5;132;01m}\u001b[39;00m\u001b[38;5;124m\"\u001b[39m)\n\u001b[0;32m    896\u001b[0m     \u001b[38;5;28;01mreturn\u001b[39;00m elements[\u001b[38;5;241m0\u001b[39m]\n\u001b[1;32m--> 898\u001b[0m \u001b[38;5;28;01mreturn\u001b[39;00m \u001b[38;5;28;43mself\u001b[39;49m\u001b[38;5;241;43m.\u001b[39;49m\u001b[43mexecute\u001b[49m\u001b[43m(\u001b[49m\u001b[43mCommand\u001b[49m\u001b[38;5;241;43m.\u001b[39;49m\u001b[43mFIND_ELEMENT\u001b[49m\u001b[43m,\u001b[49m\u001b[43m \u001b[49m\u001b[43m{\u001b[49m\u001b[38;5;124;43m\"\u001b[39;49m\u001b[38;5;124;43musing\u001b[39;49m\u001b[38;5;124;43m\"\u001b[39;49m\u001b[43m:\u001b[49m\u001b[43m \u001b[49m\u001b[43mby\u001b[49m\u001b[43m,\u001b[49m\u001b[43m \u001b[49m\u001b[38;5;124;43m\"\u001b[39;49m\u001b[38;5;124;43mvalue\u001b[39;49m\u001b[38;5;124;43m\"\u001b[39;49m\u001b[43m:\u001b[49m\u001b[43m \u001b[49m\u001b[43mvalue\u001b[49m\u001b[43m}\u001b[49m\u001b[43m)\u001b[49m[\u001b[38;5;124m\"\u001b[39m\u001b[38;5;124mvalue\u001b[39m\u001b[38;5;124m\"\u001b[39m]\n",
      "File \u001b[1;32mc:\\Users\\eeras\\.conda\\envs\\nuevo_entorno\\lib\\site-packages\\selenium\\webdriver\\remote\\webdriver.py:429\u001b[0m, in \u001b[0;36mWebDriver.execute\u001b[1;34m(self, driver_command, params)\u001b[0m\n\u001b[0;32m    427\u001b[0m response \u001b[38;5;241m=\u001b[39m \u001b[38;5;28mself\u001b[39m\u001b[38;5;241m.\u001b[39mcommand_executor\u001b[38;5;241m.\u001b[39mexecute(driver_command, params)\n\u001b[0;32m    428\u001b[0m \u001b[38;5;28;01mif\u001b[39;00m response:\n\u001b[1;32m--> 429\u001b[0m     \u001b[38;5;28;43mself\u001b[39;49m\u001b[38;5;241;43m.\u001b[39;49m\u001b[43merror_handler\u001b[49m\u001b[38;5;241;43m.\u001b[39;49m\u001b[43mcheck_response\u001b[49m\u001b[43m(\u001b[49m\u001b[43mresponse\u001b[49m\u001b[43m)\u001b[49m\n\u001b[0;32m    430\u001b[0m     response[\u001b[38;5;124m\"\u001b[39m\u001b[38;5;124mvalue\u001b[39m\u001b[38;5;124m\"\u001b[39m] \u001b[38;5;241m=\u001b[39m \u001b[38;5;28mself\u001b[39m\u001b[38;5;241m.\u001b[39m_unwrap_value(response\u001b[38;5;241m.\u001b[39mget(\u001b[38;5;124m\"\u001b[39m\u001b[38;5;124mvalue\u001b[39m\u001b[38;5;124m\"\u001b[39m, \u001b[38;5;28;01mNone\u001b[39;00m))\n\u001b[0;32m    431\u001b[0m     \u001b[38;5;28;01mreturn\u001b[39;00m response\n",
      "File \u001b[1;32mc:\\Users\\eeras\\.conda\\envs\\nuevo_entorno\\lib\\site-packages\\selenium\\webdriver\\remote\\errorhandler.py:232\u001b[0m, in \u001b[0;36mErrorHandler.check_response\u001b[1;34m(self, response)\u001b[0m\n\u001b[0;32m    230\u001b[0m         alert_text \u001b[38;5;241m=\u001b[39m value[\u001b[38;5;124m\"\u001b[39m\u001b[38;5;124malert\u001b[39m\u001b[38;5;124m\"\u001b[39m]\u001b[38;5;241m.\u001b[39mget(\u001b[38;5;124m\"\u001b[39m\u001b[38;5;124mtext\u001b[39m\u001b[38;5;124m\"\u001b[39m)\n\u001b[0;32m    231\u001b[0m     \u001b[38;5;28;01mraise\u001b[39;00m exception_class(message, screen, stacktrace, alert_text)  \u001b[38;5;66;03m# type: ignore[call-arg]  # mypy is not smart enough here\u001b[39;00m\n\u001b[1;32m--> 232\u001b[0m \u001b[38;5;28;01mraise\u001b[39;00m exception_class(message, screen, stacktrace)\n",
      "\u001b[1;31mInvalidSessionIdException\u001b[0m: Message: invalid session id: session deleted as the browser has closed the connection\nfrom disconnected: not connected to DevTools\n  (Session info: chrome=134.0.6998.36)\nStacktrace:\n\tGetHandleVerifier [0x00007FF6167DFE45+26629]\n\t(No symbol) [0x00007FF616746010]\n\t(No symbol) [0x00007FF6165D931A]\n\t(No symbol) [0x00007FF6165C4F65]\n\t(No symbol) [0x00007FF6165E9E04]\n\t(No symbol) [0x00007FF61665F85F]\n\t(No symbol) [0x00007FF61667FA55]\n\t(No symbol) [0x00007FF616657883]\n\t(No symbol) [0x00007FF616620550]\n\t(No symbol) [0x00007FF616621803]\n\tGetHandleVerifier [0x00007FF616B372BD+3529853]\n\tGetHandleVerifier [0x00007FF616B4DA22+3621858]\n\tGetHandleVerifier [0x00007FF616B424D3+3575443]\n\tGetHandleVerifier [0x00007FF6168AB77A+860474]\n\t(No symbol) [0x00007FF61675088F]\n\t(No symbol) [0x00007FF61674CBC4]\n\t(No symbol) [0x00007FF61674CD66]\n\t(No symbol) [0x00007FF61673C2C9]\n\tBaseThreadInitThunk [0x00007FFD647DE8D7+23]\n\tRtlUserThreadStart [0x00007FFD65DBBF6C+44]\n"
     ]
    }
   ],
   "source": [
    "driver = webdriver.Chrome()\n",
    "#driver.maximize_window()\n",
    "wait = WebDriverWait(driver, 10)\n",
    "data = []\n",
    "fecha_consulta = datetime.now().strftime(\"%Y-%m-%d %H:%M:%S\")\n",
    "for register in Registers:\n",
    "    driver.get(\"https://permisosfuncionamiento.controlsanitario.gob.ec/permisosdefuncionamiento/index.php\")\n",
    "    time.sleep(2)\n",
    "    boton_ruc = wait.until(EC.element_to_be_clickable((By.XPATH, \"/html/body/div/form/div[2]/div/div/center[2]/table/tbody/tr[2]/td/center/table/tbody/tr[4]/td/div/div[2]/input\")))\n",
    "    boton_ruc.click()\n",
    "    time.sleep(2)\n",
    "    input_element = WebDriverWait(driver, 5).until(EC.visibility_of_element_located((By.XPATH, \"/html/body/div/form/div[2]/div/div/center[2]/table/tbody/tr[2]/td/center/table/tbody/tr[2]/td/div/div[2]/input\")))\n",
    "    # Ingresar el número en el campo de texto\n",
    "    input_element.send_keys(register)\n",
    "    time.sleep(3)\n",
    "    #Click en boton consultar\n",
    "    elemento_xpath = WebDriverWait(driver, 5).until(EC.element_to_be_clickable((By.XPATH, \"/html/body/div/form/div[2]/div/div/center[2]/table/tbody/tr[3]/td/div/div/button\")))\n",
    "    elemento_xpath.click()\n",
    "    time.sleep(3)  \n",
    "driver.quit()"
   ]
  }
 ],
 "metadata": {
  "kernelspec": {
   "display_name": "Nuevo Entorno",
   "language": "python",
   "name": "nuevo_entorno"
  },
  "language_info": {
   "codemirror_mode": {
    "name": "ipython",
    "version": 3
   },
   "file_extension": ".py",
   "mimetype": "text/x-python",
   "name": "python",
   "nbconvert_exporter": "python",
   "pygments_lexer": "ipython3",
   "version": "3.9.21"
  }
 },
 "nbformat": 4,
 "nbformat_minor": 2
}
