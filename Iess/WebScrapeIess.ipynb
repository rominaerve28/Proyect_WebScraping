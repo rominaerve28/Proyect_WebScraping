{
 "cells": [
  {
   "cell_type": "code",
   "execution_count": null,
   "metadata": {},
   "outputs": [],
   "source": [
    "import re\n",
    "import os\n",
    "import csv\n",
    "import time\n",
    "import shutil\n",
    "import PyPDF2\n",
    "import pandas as pd\n",
    "from docx import Document\n",
    "from datetime import datetime\n",
    "from selenium import webdriver\n",
    "from selenium.webdriver.common.by import By\n",
    "from selenium.webdriver.support.ui import WebDriverWait\n",
    "from selenium.webdriver.support import expected_conditions as EC"
   ]
  },
  {
   "cell_type": "code",
   "execution_count": 14,
   "metadata": {},
   "outputs": [
    {
     "data": {
      "text/plain": [
       "['1790300404001',\n",
       " '1391738986001',\n",
       " '1391880081001',\n",
       " \"0891742622001'\",\n",
       " '1391932105001',\n",
       " '1391797486001',\n",
       " '1391898800001',\n",
       " '1390012949001',\n",
       " '1391877986001',\n",
       " '1391932601001',\n",
       " '1391794495001',\n",
       " '1391932573001',\n",
       " '1391800673001',\n",
       " \"0990604282001'\",\n",
       " '1391822189001',\n",
       " '1391815123001',\n",
       " '1391933738001']"
      ]
     },
     "execution_count": 14,
     "metadata": {},
     "output_type": "execute_result"
    }
   ],
   "source": [
    "Registers = []\n",
    "with open(\"C:/Analytics/Lista_de_Ruc.csv\", mode=\"r\", encoding=\"utf-8\") as file:\n",
    "    reader = csv.reader(file)\n",
    "    for row in reader:\n",
    "        Registers.append(row[0])  # Suponiendo que el dato está en la primera columna\n",
    "Registers"
   ]
  },
  {
   "cell_type": "code",
   "execution_count": null,
   "metadata": {},
   "outputs": [],
   "source": [
    "driver = webdriver.Chrome()\n",
    "wait = WebDriverWait(driver, 10)\n",
    "driver.get(\"https://www.iess.gob.ec/empleador-web/pages/morapatronal/certificadoCumplimientoPublico.jsf\")\n",
    "WebDriverWait(driver, 10).until(lambda d: d.execute_script(\"return document.readyState\") == \"complete\")\n",
    "for register in Registers:  \n",
    "    time.sleep(2)\n",
    "    input_element = WebDriverWait(driver, 5).until(EC.visibility_of_element_located((By.XPATH, \"/html/body/form/table/tbody/tr/td/table/tbody/tr[2]/td/div[1]/table/tbody/tr[2]/td/input\")))\n",
    "    # Ingresar el número en el campo de texto\n",
    "    input_element.send_keys(register)\n",
    "    time.sleep(3)\n",
    "    #Click en boton consultar\n",
    "    elemento_xpath = WebDriverWait(driver, 5).until(EC.element_to_be_clickable((By.XPATH, \"/html/body/form/table/tbody/tr/td/table/tbody/tr[2]/td/div[1]/div[5]/input\")))\n",
    "    elemento_xpath.click()\n",
    "    time.sleep(3)\n",
    "    \n",
    "    hora_consulta = datetime.now().strftime(\"%Y-%m-%d %H:%M:%S\")\n",
    "driver.quit()"
   ]
  },
  {
   "cell_type": "code",
   "execution_count": null,
   "metadata": {},
   "outputs": [
    {
     "name": "stdout",
     "output_type": "stream",
     "text": [
      "Movido: certificado_empresa_ruc (2).pdf\n",
      "Proceso completado. Información guardada en Excel.\n"
     ]
    }
   ],
   "source": [
    "\n",
    "#rutas de archivos\n",
    "downloads_folder = os.path.expanduser(\"C:/Users/eeras/Downloads\")  # Ajusta TU_USUARIO\n",
    "destination_folder = \"C:/Analytics/Iess/pdf\"\n",
    "excel_path = \"C:/Analytics/Iess/obligaciones_patronales.xlsx\"\n",
    "\n",
    "pattern = re.compile(r\"certificado_empresa_ruc(?: \\(\\d+\\))?\\.pdf$\")\n",
    "#mover archivos de descargas a la carpeta analytics\n",
    "if not os.path.exists(destination_folder):\n",
    "    os.makedirs(destination_folder)\n",
    "\n",
    "for file in os.listdir(downloads_folder):\n",
    "    if file.endswith(\".pdf\") and pattern.match(file):  \n",
    "        src_path = os.path.join(downloads_folder, file)\n",
    "        dest_path = os.path.join(destination_folder, file)\n",
    "        shutil.move(src_path, dest_path)\n",
    "        print(f\"Movido: {file}\")\n",
    "\n",
    "#Extraer información de PDF\n",
    "data = []\n",
    "for file in os.listdir(destination_folder):\n",
    "    if pattern.match(file):  \n",
    "        pdf_path = os.path.join(destination_folder, file)\n",
    "        \n",
    "        with open(pdf_path, \"rb\") as pdf_file:\n",
    "            reader = PyPDF2.PdfReader(pdf_file)\n",
    "            text = \"\"\n",
    "            for page in reader.pages:\n",
    "                text += page.extract_text() + \"\\n\"\n",
    "\n",
    "        #Extraer RUC, Razón Social y Obligaciones Patronales\n",
    "        ruc_match = re.search(r'RUC Nro. ?\\s*(\\d{13})', text)\n",
    "        razon_social_match = re.search(r'representante legal de la empresa\\s*([A-Za-z0-9 &]+(?:\\s+[A-Za-z0-9 &]+)*)', text)\n",
    "        obligaciones_match = re.search(r'(NO registra|SI registra)(?:\\s*|\\n*)', text, re.IGNORECASE)\n",
    "\n",
    "        ruc = ruc_match.group(1) if ruc_match else \"No encontrado\"\n",
    "\n",
    "        #Razon social\n",
    "        if razon_social_match:\n",
    "            razon_social = razon_social_match.group(1).strip()\n",
    "        else:\n",
    "            razon_social = \"No encontrado\"\n",
    "\n",
    "        #obligaciones\n",
    "        if obligaciones_match:\n",
    "            obligaciones = obligaciones_match.group(1).strip()\n",
    "        else:\n",
    "            obligaciones = \"No encontrado\"\n",
    "            \n",
    "        \n",
    "\n",
    "        data.append([ruc, razon_social, obligaciones])\n",
    "\n",
    "#Guardar en un archivo Excel\n",
    "df = pd.DataFrame(data, columns=[\"RUC\", \"Razón Social\", \"Obligaciones Patronales\"])\n",
    "df.to_excel(excel_path, index=False)\n",
    "\n",
    "print(\"Proceso completado. Información guardada en Excel.\")\n",
    "\n",
    "\n"
   ]
  },
  {
   "cell_type": "code",
   "execution_count": null,
   "metadata": {},
   "outputs": [
    {
     "name": "stdout",
     "output_type": "stream",
     "text": [
      "CERTIFICADO DE CUMPLIMIENTO DE OBLIGACIONES PATRONALES\n",
      " \n",
      "El Instituto Ecuatoriano de Seguridad Social (IESS) certifica que, revisados los\n",
      "archivos del Sistema de Historia Laboral, el señor(a) GONZALEZ ARTIGAS\n",
      "POLANCO JAIME RAMON, representante legal de la empresa EXTRACTORA\n",
      "AGRICOLA RIO MANSO EXA S.A. con RUC Nro. 1790300404001 y dirección\n",
      "1. KM 5 1/2 VIA MANTA - MONTECRISTI EN LA FABRIL. 2. 1. 1., NO registra\n",
      "obligaciones patronales en mora; información verificada a la fecha de emisión\n",
      "del presente certificado.\n",
      "El IESS se reserva el derecho de verificar la información y las obligaciones\n",
      "pendientes que no se encontraren registradas o no hayan sido determinadas,\n",
      "sin perjuicio de aplicar las sanciones correspondientes;  esta certificación no\n",
      "implica condonación o renuncia del  derecho del IESS, al ejercicio de las\n",
      "acciones legales a que hubiere lugar para su cobro.\n",
      "El contenido de este certificado puede ser validado ingresando al portal web del\n",
      "IESS en el menú Empleador – Certificado de Obligaciones Patronales,\n",
      "digitando el RUC de la empresa o número de cédula.\n",
      "Directora Nacional de Recaudación y Gestión de Cartera\n",
      " \n",
      "Emitido el 11 de marzo de 2025Mgs. García Ortega Esther\n",
      " \n",
      " \n",
      "Validez del Certificado 30 días\n"
     ]
    }
   ],
   "source": [
    "import PyPDF2\n",
    "path= \"C:\\Analytics\\Iess\\pdf\\certificado_empresa_ruc (2).pdf\"\n",
    "\n",
    "pdf= open(path , \"rb\")\n",
    "reader= PyPDF2.PdfReader(pdf)\n",
    "page=reader._get_page(0)\n",
    "print(page.extract_text())"
   ]
  }
 ],
 "metadata": {
  "kernelspec": {
   "display_name": "Nuevo Entorno",
   "language": "python",
   "name": "nuevo_entorno"
  },
  "language_info": {
   "codemirror_mode": {
    "name": "ipython",
    "version": 3
   },
   "file_extension": ".py",
   "mimetype": "text/x-python",
   "name": "python",
   "nbconvert_exporter": "python",
   "pygments_lexer": "ipython3",
   "version": "3.9.21"
  }
 },
 "nbformat": 4,
 "nbformat_minor": 2
}
