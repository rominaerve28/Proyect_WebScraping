{
 "cells": [
  {
   "cell_type": "code",
   "execution_count": 3,
   "metadata": {},
   "outputs": [],
   "source": [
    "import os\n",
    "import csv\n",
    "from docx import Document\n",
    "import os\n",
    "from selenium import webdriver\n",
    "from selenium.webdriver.common.by import By\n",
    "from selenium.webdriver.support.ui import WebDriverWait\n",
    "from selenium.webdriver.support import expected_conditions as EC\n",
    "import time\n",
    "from datetime import datetime\n",
    "import PyPDF2\n",
    "import os\n",
    "import shutil\n",
    "import re\n",
    "import pandas as pd"
   ]
  },
  {
   "cell_type": "code",
   "execution_count": 11,
   "metadata": {},
   "outputs": [
    {
     "data": {
      "text/plain": [
       "['1790300404001',\n",
       " '1391738986001',\n",
       " '1391880081001',\n",
       " \"0891742622001'\",\n",
       " '1391932105001',\n",
       " '1391797486001',\n",
       " '1391898800001',\n",
       " '1390012949001',\n",
       " '1391877986001',\n",
       " '1391932601001',\n",
       " '1391794495001',\n",
       " '1391932573001',\n",
       " '1391800673001',\n",
       " \"0990604282001'\",\n",
       " '1391822189001',\n",
       " '1391815123001',\n",
       " '1391933738001']"
      ]
     },
     "execution_count": 11,
     "metadata": {},
     "output_type": "execute_result"
    }
   ],
   "source": [
    "Registers = []\n",
    "with open(\"C:/Analytics/Lista_de_Ruc.csv\", mode=\"r\", encoding=\"utf-8\") as file:\n",
    "    reader = csv.reader(file)\n",
    "    for row in reader:\n",
    "        Registers.append(row[0])  # Suponiendo que el dato está en la primera columna\n",
    "Registers"
   ]
  },
  {
   "cell_type": "code",
   "execution_count": null,
   "metadata": {},
   "outputs": [],
   "source": [
    "driver = webdriver.Chrome()\n",
    "wait = WebDriverWait(driver, 10)\n",
    "driver.get(\"https://www.iess.gob.ec/empleador-web/pages/morapatronal/certificadoCumplimientoPublico.jsf\")\n",
    "WebDriverWait(driver, 10).until(lambda d: d.execute_script(\"return document.readyState\") == \"complete\")\n",
    "for register in Registers:  \n",
    "\n",
    "    time.sleep(2)\n",
    "\n",
    "    input_element = WebDriverWait(driver, 5).until(EC.visibility_of_element_located((By.XPATH, \"/html/body/form/table/tbody/tr/td/table/tbody/tr[2]/td/div[1]/table/tbody/tr[2]/td/input\")))\n",
    "    # Ingresar el número en el campo de texto\n",
    "    input_element.send_keys(register)\n",
    "\n",
    "    time.sleep(3)\n",
    "    elemento_xpath = WebDriverWait(driver, 5).until(EC.element_to_be_clickable((By.XPATH, \"/html/body/form/table/tbody/tr/td/table/tbody/tr[2]/td/div[1]/div[5]/input\")))\n",
    "    elemento_xpath.click()\n",
    "    time.sleep(3)\n",
    "\n",
    "    hora_consulta = datetime.now().strftime(\"%Y-%m-%d %H:%M:%S\")\n",
    "    \n",
    "\n",
    "driver.quit()"
   ]
  },
  {
   "cell_type": "code",
   "execution_count": 7,
   "metadata": {},
   "outputs": [
    {
     "name": "stdout",
     "output_type": "stream",
     "text": [
      "Movido a: Acta de Cierre_LaFabril_MonitoreoSOC_20241206 - copia.pdf\n",
      "Movido a: Carta de universidad-Eras Vèliz Eliana Romina.pdf\n",
      "Movido a: certificado_empresa_ruc (1).pdf\n",
      "Movido a: certificado_empresa_ruc (2).pdf\n",
      "Movido a: certificado_empresa_ruc (3).pdf\n",
      "Movido a: certificado_empresa_ruc (4).pdf\n",
      "Movido a: certificado_empresa_ruc (5).pdf\n",
      "Movido a: certificado_empresa_ruc (6).pdf\n",
      "Movido a: certificado_empresa_ruc (7).pdf\n",
      "Movido a: certificado_empresa_ruc.pdf\n",
      "Movido a: COBIT-2019-Design-Guide_res_spa_0719 1.pdf\n",
      "Movido a: cv actualizado 2025.pdf\n",
      "Movido a: DOCUMENTO ROMINA20250213_15214840.pdf\n",
      "Movido a: INFECU Informe EH EXTERNO - LA FABRIL S.A..pdf\n",
      "Movido a: INFECU Informe EH INTERNO - LA FABRIL S.A..pdf\n",
      "Movido a: INFECU-Informe-Retest-EH-La Fabril S.A V1.0 (1).pdf\n",
      "Movido a: ROMINA20250211_16091596.pdf\n"
     ]
    },
    {
     "ename": "KeyboardInterrupt",
     "evalue": "",
     "output_type": "error",
     "traceback": [
      "\u001b[1;31m---------------------------------------------------------------------------\u001b[0m",
      "\u001b[1;31mKeyboardInterrupt\u001b[0m                         Traceback (most recent call last)",
      "Cell \u001b[1;32mIn[7], line 29\u001b[0m\n\u001b[0;32m     27\u001b[0m     text \u001b[38;5;241m=\u001b[39m \u001b[38;5;124m\"\u001b[39m\u001b[38;5;124m\"\u001b[39m\n\u001b[0;32m     28\u001b[0m     \u001b[38;5;28;01mfor\u001b[39;00m page \u001b[38;5;129;01min\u001b[39;00m reader\u001b[38;5;241m.\u001b[39mpages:\n\u001b[1;32m---> 29\u001b[0m         text \u001b[38;5;241m+\u001b[39m\u001b[38;5;241m=\u001b[39m \u001b[43mpage\u001b[49m\u001b[38;5;241;43m.\u001b[39;49m\u001b[43mextract_text\u001b[49m\u001b[43m(\u001b[49m\u001b[43m)\u001b[49m \u001b[38;5;241m+\u001b[39m \u001b[38;5;124m\"\u001b[39m\u001b[38;5;130;01m\\n\u001b[39;00m\u001b[38;5;124m\"\u001b[39m\n\u001b[0;32m     31\u001b[0m \u001b[38;5;66;03m#Extraer RUC, Razón Social y Obligaciones Patronales\u001b[39;00m\n\u001b[0;32m     32\u001b[0m ruc_match \u001b[38;5;241m=\u001b[39m re\u001b[38;5;241m.\u001b[39msearch(\u001b[38;5;124mr\u001b[39m\u001b[38;5;124m'\u001b[39m\u001b[38;5;124mRUC:?\u001b[39m\u001b[38;5;124m\\\u001b[39m\u001b[38;5;124ms*(\u001b[39m\u001b[38;5;124m\\\u001b[39m\u001b[38;5;124md\u001b[39m\u001b[38;5;132;01m{13}\u001b[39;00m\u001b[38;5;124m)\u001b[39m\u001b[38;5;124m'\u001b[39m, text)\n",
      "File \u001b[1;32mc:\\Users\\eeras\\.conda\\envs\\nuevo_entorno\\lib\\site-packages\\PyPDF2\\_page.py:1851\u001b[0m, in \u001b[0;36mPageObject.extract_text\u001b[1;34m(self, Tj_sep, TJ_sep, orientations, space_width, visitor_operand_before, visitor_operand_after, visitor_text, *args)\u001b[0m\n\u001b[0;32m   1848\u001b[0m \u001b[38;5;28;01mif\u001b[39;00m \u001b[38;5;28misinstance\u001b[39m(orientations, \u001b[38;5;28mint\u001b[39m):\n\u001b[0;32m   1849\u001b[0m     orientations \u001b[38;5;241m=\u001b[39m (orientations,)\n\u001b[1;32m-> 1851\u001b[0m \u001b[38;5;28;01mreturn\u001b[39;00m \u001b[38;5;28;43mself\u001b[39;49m\u001b[38;5;241;43m.\u001b[39;49m\u001b[43m_extract_text\u001b[49m\u001b[43m(\u001b[49m\n\u001b[0;32m   1852\u001b[0m \u001b[43m    \u001b[49m\u001b[38;5;28;43mself\u001b[39;49m\u001b[43m,\u001b[49m\n\u001b[0;32m   1853\u001b[0m \u001b[43m    \u001b[49m\u001b[38;5;28;43mself\u001b[39;49m\u001b[38;5;241;43m.\u001b[39;49m\u001b[43mpdf\u001b[49m\u001b[43m,\u001b[49m\n\u001b[0;32m   1854\u001b[0m \u001b[43m    \u001b[49m\u001b[43morientations\u001b[49m\u001b[43m,\u001b[49m\n\u001b[0;32m   1855\u001b[0m \u001b[43m    \u001b[49m\u001b[43mspace_width\u001b[49m\u001b[43m,\u001b[49m\n\u001b[0;32m   1856\u001b[0m \u001b[43m    \u001b[49m\u001b[43mPG\u001b[49m\u001b[38;5;241;43m.\u001b[39;49m\u001b[43mCONTENTS\u001b[49m\u001b[43m,\u001b[49m\n\u001b[0;32m   1857\u001b[0m \u001b[43m    \u001b[49m\u001b[43mvisitor_operand_before\u001b[49m\u001b[43m,\u001b[49m\n\u001b[0;32m   1858\u001b[0m \u001b[43m    \u001b[49m\u001b[43mvisitor_operand_after\u001b[49m\u001b[43m,\u001b[49m\n\u001b[0;32m   1859\u001b[0m \u001b[43m    \u001b[49m\u001b[43mvisitor_text\u001b[49m\u001b[43m,\u001b[49m\n\u001b[0;32m   1860\u001b[0m \u001b[43m\u001b[49m\u001b[43m)\u001b[49m\n",
      "File \u001b[1;32mc:\\Users\\eeras\\.conda\\envs\\nuevo_entorno\\lib\\site-packages\\PyPDF2\\_page.py:1356\u001b[0m, in \u001b[0;36mPageObject._extract_text\u001b[1;34m(self, obj, pdf, orientations, space_width, content_key, visitor_operand_before, visitor_operand_after, visitor_text)\u001b[0m\n\u001b[0;32m   1352\u001b[0m     content \u001b[38;5;241m=\u001b[39m (\n\u001b[0;32m   1353\u001b[0m         obj[content_key]\u001b[38;5;241m.\u001b[39mget_object() \u001b[38;5;28;01mif\u001b[39;00m \u001b[38;5;28misinstance\u001b[39m(content_key, \u001b[38;5;28mstr\u001b[39m) \u001b[38;5;28;01melse\u001b[39;00m obj\n\u001b[0;32m   1354\u001b[0m     )\n\u001b[0;32m   1355\u001b[0m     \u001b[38;5;28;01mif\u001b[39;00m \u001b[38;5;129;01mnot\u001b[39;00m \u001b[38;5;28misinstance\u001b[39m(content, ContentStream):\n\u001b[1;32m-> 1356\u001b[0m         content \u001b[38;5;241m=\u001b[39m \u001b[43mContentStream\u001b[49m\u001b[43m(\u001b[49m\u001b[43mcontent\u001b[49m\u001b[43m,\u001b[49m\u001b[43m \u001b[49m\u001b[43mpdf\u001b[49m\u001b[43m,\u001b[49m\u001b[43m \u001b[49m\u001b[38;5;124;43m\"\u001b[39;49m\u001b[38;5;124;43mbytes\u001b[39;49m\u001b[38;5;124;43m\"\u001b[39;49m\u001b[43m)\u001b[49m\n\u001b[0;32m   1357\u001b[0m \u001b[38;5;28;01mexcept\u001b[39;00m \u001b[38;5;167;01mKeyError\u001b[39;00m:  \u001b[38;5;66;03m# it means no content can be extracted(certainly empty page)\u001b[39;00m\n\u001b[0;32m   1358\u001b[0m     \u001b[38;5;28;01mreturn\u001b[39;00m \u001b[38;5;124m\"\u001b[39m\u001b[38;5;124m\"\u001b[39m\n",
      "File \u001b[1;32mc:\\Users\\eeras\\.conda\\envs\\nuevo_entorno\\lib\\site-packages\\PyPDF2\\generic\\_data_structures.py:877\u001b[0m, in \u001b[0;36mContentStream.__init__\u001b[1;34m(self, stream, pdf, forced_encoding)\u001b[0m\n\u001b[0;32m    875\u001b[0m     stream_bytes \u001b[38;5;241m=\u001b[39m BytesIO(stream_data_bytes)\n\u001b[0;32m    876\u001b[0m \u001b[38;5;28mself\u001b[39m\u001b[38;5;241m.\u001b[39mforced_encoding \u001b[38;5;241m=\u001b[39m forced_encoding\n\u001b[1;32m--> 877\u001b[0m \u001b[38;5;28;43mself\u001b[39;49m\u001b[38;5;241;43m.\u001b[39;49m\u001b[43m__parse_content_stream\u001b[49m\u001b[43m(\u001b[49m\u001b[43mstream_bytes\u001b[49m\u001b[43m)\u001b[49m\n",
      "File \u001b[1;32mc:\\Users\\eeras\\.conda\\envs\\nuevo_entorno\\lib\\site-packages\\PyPDF2\\generic\\_data_structures.py:943\u001b[0m, in \u001b[0;36mContentStream.__parse_content_stream\u001b[1;34m(self, stream)\u001b[0m\n\u001b[0;32m    941\u001b[0m         peek \u001b[38;5;241m=\u001b[39m stream\u001b[38;5;241m.\u001b[39mread(\u001b[38;5;241m1\u001b[39m)\n\u001b[0;32m    942\u001b[0m \u001b[38;5;28;01melse\u001b[39;00m:\n\u001b[1;32m--> 943\u001b[0m     operands\u001b[38;5;241m.\u001b[39mappend(\u001b[43mread_object\u001b[49m\u001b[43m(\u001b[49m\u001b[43mstream\u001b[49m\u001b[43m,\u001b[49m\u001b[43m \u001b[49m\u001b[38;5;28;43;01mNone\u001b[39;49;00m\u001b[43m,\u001b[49m\u001b[43m \u001b[49m\u001b[38;5;28;43mself\u001b[39;49m\u001b[38;5;241;43m.\u001b[39;49m\u001b[43mforced_encoding\u001b[49m\u001b[43m)\u001b[49m)\n",
      "File \u001b[1;32mc:\\Users\\eeras\\.conda\\envs\\nuevo_entorno\\lib\\site-packages\\PyPDF2\\generic\\_data_structures.py:1077\u001b[0m, in \u001b[0;36mread_object\u001b[1;34m(stream, pdf, forced_encoding)\u001b[0m\n\u001b[0;32m   1075\u001b[0m         \u001b[38;5;28;01mreturn\u001b[39;00m IndirectObject\u001b[38;5;241m.\u001b[39mread_from_stream(stream, pdf)\n\u001b[0;32m   1076\u001b[0m     \u001b[38;5;28;01melse\u001b[39;00m:\n\u001b[1;32m-> 1077\u001b[0m         \u001b[38;5;28;01mreturn\u001b[39;00m \u001b[43mNumberObject\u001b[49m\u001b[38;5;241;43m.\u001b[39;49m\u001b[43mread_from_stream\u001b[49m\u001b[43m(\u001b[49m\u001b[43mstream\u001b[49m\u001b[43m)\u001b[49m\n\u001b[0;32m   1078\u001b[0m \u001b[38;5;28;01melse\u001b[39;00m:\n\u001b[0;32m   1079\u001b[0m     stream\u001b[38;5;241m.\u001b[39mseek(\u001b[38;5;241m-\u001b[39m\u001b[38;5;241m20\u001b[39m, \u001b[38;5;241m1\u001b[39m)\n",
      "File \u001b[1;32mc:\\Users\\eeras\\.conda\\envs\\nuevo_entorno\\lib\\site-packages\\PyPDF2\\generic\\_base.py:407\u001b[0m, in \u001b[0;36mNumberObject.read_from_stream\u001b[1;34m(stream)\u001b[0m\n\u001b[0;32m    405\u001b[0m num \u001b[38;5;241m=\u001b[39m read_until_regex(stream, NumberObject\u001b[38;5;241m.\u001b[39mNumberPattern)\n\u001b[0;32m    406\u001b[0m \u001b[38;5;28;01mif\u001b[39;00m num\u001b[38;5;241m.\u001b[39mfind(\u001b[38;5;124mb\u001b[39m\u001b[38;5;124m\"\u001b[39m\u001b[38;5;124m.\u001b[39m\u001b[38;5;124m\"\u001b[39m) \u001b[38;5;241m!=\u001b[39m \u001b[38;5;241m-\u001b[39m\u001b[38;5;241m1\u001b[39m:\n\u001b[1;32m--> 407\u001b[0m     \u001b[38;5;28;01mreturn\u001b[39;00m \u001b[43mFloatObject\u001b[49m\u001b[43m(\u001b[49m\u001b[43mnum\u001b[49m\u001b[43m)\u001b[49m\n\u001b[0;32m    408\u001b[0m \u001b[38;5;28;01mreturn\u001b[39;00m NumberObject(num)\n",
      "File \u001b[1;32mc:\\Users\\eeras\\.conda\\envs\\nuevo_entorno\\lib\\site-packages\\PyPDF2\\generic\\_base.py:330\u001b[0m, in \u001b[0;36mFloatObject.__new__\u001b[1;34m(cls, value, context)\u001b[0m\n\u001b[0;32m    326\u001b[0m \u001b[38;5;28;01mdef\u001b[39;00m \u001b[38;5;21m__new__\u001b[39m(\n\u001b[0;32m    327\u001b[0m     \u001b[38;5;28mcls\u001b[39m, value: Union[\u001b[38;5;28mstr\u001b[39m, Any] \u001b[38;5;241m=\u001b[39m \u001b[38;5;124m\"\u001b[39m\u001b[38;5;124m0\u001b[39m\u001b[38;5;124m\"\u001b[39m, context: Optional[Any] \u001b[38;5;241m=\u001b[39m \u001b[38;5;28;01mNone\u001b[39;00m\n\u001b[0;32m    328\u001b[0m ) \u001b[38;5;241m-\u001b[39m\u001b[38;5;241m>\u001b[39m \u001b[38;5;124m\"\u001b[39m\u001b[38;5;124mFloatObject\u001b[39m\u001b[38;5;124m\"\u001b[39m:\n\u001b[0;32m    329\u001b[0m     \u001b[38;5;28;01mtry\u001b[39;00m:\n\u001b[1;32m--> 330\u001b[0m         \u001b[38;5;28;01mreturn\u001b[39;00m \u001b[43mdecimal\u001b[49m\u001b[38;5;241;43m.\u001b[39;49m\u001b[43mDecimal\u001b[49m\u001b[38;5;241;43m.\u001b[39;49m\u001b[38;5;21;43m__new__\u001b[39;49m(\u001b[38;5;28mcls\u001b[39m, str_(value), context)\n\u001b[0;32m    331\u001b[0m     \u001b[38;5;28;01mexcept\u001b[39;00m \u001b[38;5;167;01mException\u001b[39;00m:\n\u001b[0;32m    332\u001b[0m         \u001b[38;5;66;03m# If this isn't a valid decimal (happens in malformed PDFs)\u001b[39;00m\n\u001b[0;32m    333\u001b[0m         \u001b[38;5;66;03m# fallback to 0\u001b[39;00m\n\u001b[0;32m    334\u001b[0m         logger_warning(\u001b[38;5;124mf\u001b[39m\u001b[38;5;124m\"\u001b[39m\u001b[38;5;124mFloatObject (\u001b[39m\u001b[38;5;132;01m{\u001b[39;00mvalue\u001b[38;5;132;01m}\u001b[39;00m\u001b[38;5;124m) invalid; use 0.0 instead\u001b[39m\u001b[38;5;124m\"\u001b[39m, \u001b[38;5;18m__name__\u001b[39m)\n",
      "\u001b[1;31mKeyboardInterrupt\u001b[0m: "
     ]
    }
   ],
   "source": [
    "#rutas de archivos\n",
    "downloads_folder = os.path.expanduser(\"C:/Users/eeras/Downloads\")  # Ajusta TU_USUARIO\n",
    "destination_folder = \"C:/Analytics/Iess/pdf\"\n",
    "excel_path = \"C:/Analytics/Iess/obligaciones_patronales.xlsx\"\n",
    "\n",
    "#mover archivos de descargas a la carpeta analytics\n",
    "if not os.path.exists(destination_folder):\n",
    "    os.makedirs(destination_folder)\n",
    "\n",
    "for file in os.listdir(downloads_folder):\n",
    "    if file.endswith(\".pdf\"):\n",
    "        pattern = re.compile(r\"certificado_empresa_ruc(?: \\(\\d+\\))?\\.pdf$\")\n",
    "        src_path = os.path.join(downloads_folder, file)\n",
    "        dest_path = os.path.join(destination_folder, file)\n",
    "        shutil.move(src_path, dest_path)\n",
    "        print(f\"Movido a: {file}\")\n",
    "\n",
    "#Extraer información de PDF\n",
    "data = []\n",
    "\n",
    "for file in os.listdir(destination_folder):\n",
    "    if file.endswith(\".pdf\"):\n",
    "        pdf_path = os.path.join(destination_folder, file)\n",
    "        \n",
    "        with open(pdf_path, \"rb\") as pdf_file:\n",
    "            reader = PyPDF2.PdfReader(pdf_file)\n",
    "            text = \"\"\n",
    "            for page in reader.pages:\n",
    "                text += page.extract_text() + \"\\n\"\n",
    "\n",
    "        #Extraer RUC, Razón Social y Obligaciones Patronales\n",
    "        ruc_match = re.search(r'RUC:?\\s*(\\d{13})', text)\n",
    "        razon_social_match = re.search(r'Nombre de la Empresa:?\\s*(.*)', text)\n",
    "        obligaciones_match = re.search(r'(NO REGISTRA OBLIGACIONES EN MORA|REGISTRA OBLIGACIONES EN MORA)', text)\n",
    "\n",
    "        ruc = ruc_match.group(1) if ruc_match else \"No encontrado\"\n",
    "        razon_social = razon_social_match.group(1).strip() if razon_social_match else \"No encontrado\"\n",
    "        obligaciones = obligaciones_match.group(1) if obligaciones_match else \"No encontrado\"\n",
    "\n",
    "        data.append([ruc, razon_social, obligaciones])\n",
    "\n",
    "#Guardar en un archivo Excel\n",
    "df = pd.DataFrame(data, columns=[\"RUC\", \"Razón Social\", \"Obligaciones Patronales\"])\n",
    "df.to_excel(excel_path, index=False)\n",
    "\n",
    "print(\"Proceso completado. Información guardada en Excel.\")\n",
    "\n",
    "\n"
   ]
  },
  {
   "cell_type": "code",
   "execution_count": null,
   "metadata": {},
   "outputs": [
    {
     "name": "stdout",
     "output_type": "stream",
     "text": [
      "CERTIFICADO DE CUMPLIMIENTO DE OBLIGACIONES PATRONALES\n",
      " \n",
      "El Instituto Ecuatoriano de Seguridad Social (IESS) certifica que, revisados los\n",
      "archivos del Sistema de Historia Laboral, el señor(a) GONZALEZ ARTIGAS\n",
      "POLANCO JAIME RAMON, representante legal de la empresa EXTRACTORA\n",
      "AGRICOLA RIO MANSO EXA S.A. con RUC Nro. 1790300404001 y dirección\n",
      "1. KM 5 1/2 VIA MANTA - MONTECRISTI EN LA FABRIL. 2. 1. 1., NO registra\n",
      "obligaciones patronales en mora; información verificada a la fecha de emisión\n",
      "del presente certificado.\n",
      "El IESS se reserva el derecho de verificar la información y las obligaciones\n",
      "pendientes que no se encontraren registradas o no hayan sido determinadas,\n",
      "sin perjuicio de aplicar las sanciones correspondientes;  esta certificación no\n",
      "implica condonación o renuncia del  derecho del IESS, al ejercicio de las\n",
      "acciones legales a que hubiere lugar para su cobro.\n",
      "El contenido de este certificado puede ser validado ingresando al portal web del\n",
      "IESS en el menú Empleador – Certificado de Obligaciones Patronales,\n",
      "digitando el RUC de la empresa o número de cédula.\n",
      "Directora Nacional de Recaudación y Gestión de Cartera\n",
      " \n",
      "Emitido el 11 de marzo de 2025Mgs. García Ortega Esther\n",
      " \n",
      " \n",
      "Validez del Certificado 30 días\n"
     ]
    }
   ],
   "source": [
    "import PyPDF2\n",
    "path= \"C:\\Analytics\\Iess\\pdf\\certificado_empresa_ruc (2).pdf\"\n",
    "\n",
    "pdf= open(path , \"rb\")\n",
    "reader= PyPDF2.PdfReader(pdf)\n",
    "page=reader._get_page(0)\n",
    "print(page.extract_text())"
   ]
  }
 ],
 "metadata": {
  "kernelspec": {
   "display_name": "Nuevo Entorno",
   "language": "python",
   "name": "nuevo_entorno"
  },
  "language_info": {
   "codemirror_mode": {
    "name": "ipython",
    "version": 3
   },
   "file_extension": ".py",
   "mimetype": "text/x-python",
   "name": "python",
   "nbconvert_exporter": "python",
   "pygments_lexer": "ipython3",
   "version": "3.9.21"
  }
 },
 "nbformat": 4,
 "nbformat_minor": 2
}
