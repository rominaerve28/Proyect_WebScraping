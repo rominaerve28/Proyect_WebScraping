{
 "cells": [
  {
   "cell_type": "markdown",
   "metadata": {},
   "source": [
    "Codigo viejo"
   ]
  },
  {
   "cell_type": "code",
   "execution_count": null,
   "metadata": {},
   "outputs": [],
   "source": [
    "import re\n",
    "import os\n",
    "import csv\n",
    "import time\n",
    "import shutil\n",
    "import PyPDF2\n",
    "import pandas as pd"
   ]
  },
  {
   "cell_type": "code",
   "execution_count": null,
   "metadata": {},
   "outputs": [],
   "source": [
    "#detecta información de un pdf especifico\n",
    "path= \"C:\\Analytics\\Iess\\pdf\\certificado_empresa_ruc (2).pdf\"\n",
    "\n",
    "pdf= open(path , \"rb\")\n",
    "reader= PyPDF2.PdfReader(pdf)\n",
    "page=reader._get_page(0)\n",
    "print(page.extract_text())"
   ]
  },
  {
   "cell_type": "code",
   "execution_count": null,
   "metadata": {},
   "outputs": [],
   "source": [
    "#solo deteccion de texto en archivos pdf \n",
    "#rutas de archivos\n",
    "downloads_folder = os.path.expanduser(\"C:/Users/eeras/Downloads\")  \n",
    "destination_folder = \"C:/Analytics/Iess/pdf\"\n",
    "excel_path = \"C:/Analytics/Iess/obligaciones_patronales.xlsx\"\n",
    "\n",
    "pattern = re.compile(r\"certificado_empresa_ruc(?: \\(\\d+\\))?\\.pdf$\")\n",
    "#mover archivos de descargas a la carpeta analytics\n",
    "if not os.path.exists(destination_folder):\n",
    "    os.makedirs(destination_folder)\n",
    "\n",
    "for file in os.listdir(downloads_folder):\n",
    "    if file.endswith(\".pdf\") and pattern.match(file):  \n",
    "        src_path = os.path.join(downloads_folder, file)\n",
    "        dest_path = os.path.join(destination_folder, file)\n",
    "        shutil.move(src_path, dest_path)\n",
    "        print(f\"Movido: {file}\")\n",
    "\n",
    "#Extraer información de PDF\n",
    "data = []\n",
    "for file in os.listdir(destination_folder):\n",
    "    if pattern.match(file):  \n",
    "        pdf_path = os.path.join(destination_folder, file)\n",
    "        \n",
    "        with open(pdf_path, \"rb\") as pdf_file:\n",
    "            reader = PyPDF2.PdfReader(pdf_file)\n",
    "            text = \"\"\n",
    "            for page in reader.pages:\n",
    "                text += page.extract_text() + \"\\n\"\n",
    "\n",
    "        #Extraer RUC, Razón Social y Obligaciones Patronales\n",
    "        ruc_match = re.search(r'RUC Nro. ?\\s*(\\d{13})', text)\n",
    "        razon_social_match = re.search(r'representante legal de la empresa\\s*([A-Za-z0-9 &]+(?:\\s+[A-Za-z0-9 &]+)*)', text)\n",
    "        obligaciones_match = re.search(r'(NO registra|SI registra)(?:\\s*|\\n*)', text, re.IGNORECASE)\n",
    "\n",
    "        ruc = ruc_match.group(1) if ruc_match else \"No encontrado\"\n",
    "\n",
    "        #Razon social\n",
    "        if razon_social_match:\n",
    "            razon_social = razon_social_match.group(1).strip()\n",
    "        else:\n",
    "            razon_social = \"No encontrado\"\n",
    "\n",
    "        #obligaciones\n",
    "        if obligaciones_match:\n",
    "            obligaciones = obligaciones_match.group(1).strip()\n",
    "        else:\n",
    "            obligaciones = \"No encontrado\"\n",
    "            \n",
    "        \n",
    "\n",
    "        data.append([ruc, razon_social, obligaciones])\n",
    "\n",
    "#Guardar en un archivo Excel\n",
    "df = pd.DataFrame(data, columns=[\"RUC\", \"Razón Social\", \"Obligaciones Patronales\"])\n",
    "df.to_excel(excel_path, index=False)\n",
    "\n",
    "print(\"Proceso completado. Información guardada en Excel.\")"
   ]
  }
 ],
 "metadata": {
  "kernelspec": {
   "display_name": "Nuevo Entorno",
   "language": "python",
   "name": "nuevo_entorno"
  },
  "language_info": {
   "codemirror_mode": {
    "name": "ipython",
    "version": 3
   },
   "file_extension": ".py",
   "mimetype": "text/x-python",
   "name": "python",
   "nbconvert_exporter": "python",
   "pygments_lexer": "ipython3",
   "version": "3.9.21"
  }
 },
 "nbformat": 4,
 "nbformat_minor": 2
}
