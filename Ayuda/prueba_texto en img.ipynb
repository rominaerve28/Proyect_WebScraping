{
 "cells": [
  {
   "cell_type": "code",
   "execution_count": 1,
   "metadata": {},
   "outputs": [],
   "source": [
    "import os\n",
    "import cv2\n",
    "import easyocr\n",
    "import requests"
   ]
  },
  {
   "cell_type": "code",
   "execution_count": 4,
   "metadata": {},
   "outputs": [
    {
     "name": "stderr",
     "output_type": "stream",
     "text": [
      "Using CPU. Note: This module is much faster with a GPU.\n"
     ]
    },
    {
     "name": "stdout",
     "output_type": "stream",
     "text": [
      "Intento1:Mal ejecutado -00123\n",
      "00123\n"
     ]
    }
   ],
   "source": [
    "escritorio = os.path.join(os.path.expanduser(\"~\"), \"Desktop\", \"Supercias_Datos\")\n",
    "\n",
    "# Verificar si la carpeta existe, si no, crearla\n",
    "if not os.path.exists(escritorio):\n",
    "    os.makedirs(escritorio, exist_ok=True)\n",
    "\n",
    "# Ruta del archivo\n",
    "captcha_path = os.path.join(escritorio, \"captcha.png\")\n",
    "max_attempt=5 \n",
    "current_attempt=1\n",
    "\n",
    "if current_attempt> max_attempt:\n",
    "    print(\"Se alcanzo el numero máximo de intentos\")\n",
    "  \n",
    "    # Descargar la imagen del CAPTCHA\n",
    "    \n",
    "captcha_path2 = cv2.imread(captcha_path)\n",
    "# Convertir la imagen a texto \n",
    "reader = easyocr.Reader([\"es\"], gpu=False)\n",
    "result = reader.readtext(captcha_path2)\n",
    "\n",
    "# Unir los textos reconocidos en una sola cadena\n",
    "text = \" \".join([res[1] for res in result])\n",
    "text = result[0][1].replace(\" \", \"\")\n",
    "\n",
    "if len(text) ==6:\n",
    "        print(\"Texto detectado:\", text)\n",
    "       \n",
    "else: \n",
    "    print(f'Intento{current_attempt}:Mal ejecutado -{text}')\n",
    "\n",
    "   \n",
    "\n",
    "print(text)\n",
    "  "
   ]
  }
 ],
 "metadata": {
  "kernelspec": {
   "display_name": "Nuevo Entorno",
   "language": "python",
   "name": "nuevo_entorno"
  },
  "language_info": {
   "codemirror_mode": {
    "name": "ipython",
    "version": 3
   },
   "file_extension": ".py",
   "mimetype": "text/x-python",
   "name": "python",
   "nbconvert_exporter": "python",
   "pygments_lexer": "ipython3",
   "version": "3.9.21"
  }
 },
 "nbformat": 4,
 "nbformat_minor": 2
}
